{
 "cells": [
  {
   "cell_type": "markdown",
   "id": "e2376f66",
   "metadata": {},
   "source": [
    "[Official documentation on chat from LangChain](https://python.langchain.com/en/latest/modules/models/chat/getting_started.html)"
   ]
  },
  {
   "cell_type": "code",
   "execution_count": 1,
   "id": "dccede54",
   "metadata": {},
   "outputs": [
    {
     "data": {
      "text/plain": [
       "True"
      ]
     },
     "execution_count": 1,
     "metadata": {},
     "output_type": "execute_result"
    }
   ],
   "source": [
    "from langchain.chat_models import ChatOpenAI\n",
    "from langchain import LLMChain\n",
    "from langchain import PromptTemplate\n",
    "from langchain.prompts.chat import (\n",
    "    ChatPromptTemplate,\n",
    "    SystemMessagePromptTemplate,\n",
    "    AIMessagePromptTemplate,\n",
    "    HumanMessagePromptTemplate,\n",
    ")\n",
    "from langchain.schema import (\n",
    "    AIMessage,\n",
    "    HumanMessage,\n",
    "    SystemMessage\n",
    ")\n",
    "\n",
    "\n",
    "# Supporting libraries\n",
    "import os\n",
    "from dotenv import load_dotenv\n",
    "\n",
    "load_dotenv()"
   ]
  },
  {
   "cell_type": "code",
   "execution_count": 2,
   "id": "af154051",
   "metadata": {
    "hide_input": false
   },
   "outputs": [],
   "source": [
    "# OPENAI_API_KEY = os.getenv('OPENAI_API_KEY', 'YourAPIKeyIfNotSet')"
   ]
  },
  {
   "cell_type": "markdown",
   "id": "9dc0f73e",
   "metadata": {},
   "source": [
    "### 0. Simple Input/Output Still works\n",
    "\n",
    "You just need to pass it as a message instead. More on this in a second."
   ]
  },
  {
   "cell_type": "code",
   "execution_count": 3,
   "id": "24231b46",
   "metadata": {},
   "outputs": [],
   "source": [
    "chat = ChatOpenAI()"
   ]
  },
  {
   "cell_type": "code",
   "execution_count": 4,
   "id": "2a68def1",
   "metadata": {},
   "outputs": [
    {
     "data": {
      "text/plain": [
       "AIMessage(content='The most populous state in the USA is California.', additional_kwargs={}, example=False)"
      ]
     },
     "execution_count": 4,
     "metadata": {},
     "output_type": "execute_result"
    }
   ],
   "source": [
    "message = [HumanMessage(content=\"What is the name of the most populous state in the USA?\")]\n",
    "\n",
    "chat(message)"
   ]
  },
  {
   "cell_type": "markdown",
   "id": "7409e722",
   "metadata": {},
   "source": [
    "### 1. Chat Messages\n",
    "\n",
    "* HumanMessage: A message sent from the perspective of the human\n",
    "* AIMessage: A message sent from the perspective of the AI the human is interacting with\n",
    "* SystemMessage: A message setting the objectives the AI should follow\n",
    "* ChatMessage: A message allowing for arbitrary setting of role. You won’t be using this too much"
   ]
  },
  {
   "cell_type": "code",
   "execution_count": 5,
   "id": "dd3e4528",
   "metadata": {},
   "outputs": [
    {
     "data": {
      "text/plain": [
       "AIMessage(content='I hate programming.', additional_kwargs={}, example=False)"
      ]
     },
     "execution_count": 5,
     "metadata": {},
     "output_type": "execute_result"
    }
   ],
   "source": [
    "messages = [\n",
    "    SystemMessage(content=\"Say the opposite of what the user says\"),\n",
    "    HumanMessage(content=\"I love programming.\")\n",
    "]\n",
    "chat(messages)"
   ]
  },
  {
   "cell_type": "code",
   "execution_count": 6,
   "id": "4b4d207f",
   "metadata": {},
   "outputs": [
    {
     "data": {
      "text/plain": [
       "AIMessage(content='The moon is not out.', additional_kwargs={}, example=False)"
      ]
     },
     "execution_count": 6,
     "metadata": {},
     "output_type": "execute_result"
    }
   ],
   "source": [
    "messages = [\n",
    "    SystemMessage(content=\"Say the opposite of what the user says\"),\n",
    "    HumanMessage(content=\"I love programming.\"),\n",
    "    AIMessage(content='I hate programming.'),\n",
    "    HumanMessage(content=\"The moon is out\")\n",
    "]\n",
    "chat(messages)"
   ]
  },
  {
   "cell_type": "code",
   "execution_count": 7,
   "id": "b6ba38cf",
   "metadata": {},
   "outputs": [
    {
     "data": {
      "text/plain": [
       "AIMessage(content='What is the last thing that I said?', additional_kwargs={}, example=False)"
      ]
     },
     "execution_count": 7,
     "metadata": {},
     "output_type": "execute_result"
    }
   ],
   "source": [
    "messages = [\n",
    "    SystemMessage(content=\"Say the opposite of what the user says\"),\n",
    "    HumanMessage(content=\"I love programming.\"),\n",
    "    AIMessage(content='I hate programming.'),\n",
    "    HumanMessage(content=\"What is the first thing that I said?\")\n",
    "]\n",
    "chat(messages)"
   ]
  },
  {
   "cell_type": "markdown",
   "id": "baf305b3",
   "metadata": {},
   "source": [
    "#### Batch Messages"
   ]
  },
  {
   "cell_type": "code",
   "execution_count": 8,
   "id": "2e2b3636",
   "metadata": {},
   "outputs": [
    {
     "data": {
      "text/plain": [
       "LLMResult(generations=[[ChatGeneration(text='Astonishingly appetizing apple', generation_info={'finish_reason': 'stop'}, message=AIMessage(content='Astonishingly appetizing apple', additional_kwargs={}, example=False))], [ChatGeneration(text='Delightful dog dashes through the daisies.', generation_info={'finish_reason': 'stop'}, message=AIMessage(content='Delightful dog dashes through the daisies.', additional_kwargs={}, example=False))]], llm_output={'token_usage': {'prompt_tokens': 60, 'completion_tokens': 18, 'total_tokens': 78}, 'model_name': 'gpt-3.5-turbo'}, run=[RunInfo(run_id=UUID('f3f8684e-991a-42d4-bdb4-547f162f2bdc')), RunInfo(run_id=UUID('d7f7a93d-9cb1-4087-ba36-3ebcd40c74f2'))])"
      ]
     },
     "execution_count": 8,
     "metadata": {},
     "output_type": "execute_result"
    }
   ],
   "source": [
    "batch_messages = [\n",
    "    [\n",
    "        SystemMessage(content=\"You are a helpful word machine that creates an alliteration using a base word\"),\n",
    "        HumanMessage(content=\"Base word: Apple\")\n",
    "    ],\n",
    "    [\n",
    "        SystemMessage(content=\"You are a helpful word machine that creates an alliteration using a base word\"),\n",
    "        HumanMessage(content=\"Base word: Dog\")\n",
    "    ],\n",
    "]\n",
    "chat.generate(batch_messages)"
   ]
  },
  {
   "cell_type": "markdown",
   "id": "e3600f53",
   "metadata": {},
   "source": [
    "### Prompt Templates\n",
    "With one or more `MessagePromptTemplates` you can build a `ChatPromptTemplate`"
   ]
  },
  {
   "cell_type": "code",
   "execution_count": 9,
   "id": "ddf3c969",
   "metadata": {},
   "outputs": [],
   "source": [
    "# Make SystemMessagePromptTemplate\n",
    "prompt=PromptTemplate(\n",
    "    template=\"Propose creative ways to incorporate {food_1} and {food_2} in the cuisine of the users choice.\",\n",
    "    input_variables=[\"food_1\", \"food_2\"]\n",
    ")\n",
    "\n",
    "system_message_prompt = SystemMessagePromptTemplate(prompt=prompt)"
   ]
  },
  {
   "cell_type": "code",
   "execution_count": 10,
   "id": "401f2bd4",
   "metadata": {},
   "outputs": [
    {
     "data": {
      "text/plain": [
       "SystemMessage(content='Propose creative ways to incorporate Bacon and Shrimp in the cuisine of the users choice.', additional_kwargs={})"
      ]
     },
     "execution_count": 10,
     "metadata": {},
     "output_type": "execute_result"
    }
   ],
   "source": [
    "# Output of system_message_prompt\n",
    "system_message_prompt.format(food_1=\"Bacon\", food_2=\"Shrimp\")"
   ]
  },
  {
   "cell_type": "code",
   "execution_count": 11,
   "id": "a2c9e821",
   "metadata": {},
   "outputs": [],
   "source": [
    "# Make HumanMessagePromptTemplate\n",
    "human_template=\"{text}\"\n",
    "human_message_prompt = HumanMessagePromptTemplate.from_template(human_template)"
   ]
  },
  {
   "cell_type": "code",
   "execution_count": 12,
   "id": "1947bf3a",
   "metadata": {},
   "outputs": [
    {
     "data": {
      "text/plain": [
       "ChatPromptTemplate(input_variables=['food_1', 'food_2', 'text'], output_parser=None, partial_variables={}, messages=[SystemMessagePromptTemplate(prompt=PromptTemplate(input_variables=['food_1', 'food_2'], output_parser=None, partial_variables={}, template='Propose creative ways to incorporate {food_1} and {food_2} in the cuisine of the users choice.', template_format='f-string', validate_template=True), additional_kwargs={}), HumanMessagePromptTemplate(prompt=PromptTemplate(input_variables=['text'], output_parser=None, partial_variables={}, template='{text}', template_format='f-string', validate_template=True), additional_kwargs={})])"
      ]
     },
     "execution_count": 12,
     "metadata": {},
     "output_type": "execute_result"
    }
   ],
   "source": [
    "# Create ChatPromptTemplate: Combine System + Human\n",
    "chat_prompt = ChatPromptTemplate.from_messages([system_message_prompt, human_message_prompt])\n",
    "chat_prompt"
   ]
  },
  {
   "cell_type": "code",
   "execution_count": 13,
   "id": "e97284de",
   "metadata": {},
   "outputs": [
    {
     "data": {
      "text/plain": [
       "[SystemMessage(content='Propose creative ways to incorporate Bacon and Shrimp in the cuisine of the users choice.', additional_kwargs={}),\n",
       " HumanMessage(content='I really like food from Germany.', additional_kwargs={}, example=False)]"
      ]
     },
     "execution_count": 13,
     "metadata": {},
     "output_type": "execute_result"
    }
   ],
   "source": [
    "chat_prompt_with_values = chat_prompt.format_prompt(food_1=\"Bacon\", \\\n",
    "                                                   food_2=\"Shrimp\", \\\n",
    "                                                   text=\"I really like food from Germany.\")\n",
    "\n",
    "chat_prompt_with_values.to_messages()"
   ]
  },
  {
   "cell_type": "code",
   "execution_count": 14,
   "id": "c0de4582",
   "metadata": {},
   "outputs": [
    {
     "name": "stdout",
     "output_type": "stream",
     "text": [
      "Incorporating bacon and shrimp into German cuisine can add a unique twist to traditional dishes. Here are a few creative ideas:\n",
      "\n",
      "1. Bacon-Wrapped Shrimp Schnitzel: Prepare a classic German schnitzel by pounding thin slices of pork or chicken, then wrap each piece with a strip of bacon. Bread and fry the schnitzels until golden brown and serve them with a side of tartar sauce or lemon wedges.\n",
      "\n",
      "2. Shrimp and Bacon Sauerkraut Rolls: Take sauerkraut and mix it with cooked shrimp and crispy bacon. Roll the mixture in thinly sliced bacon and secure with toothpicks. Bake until the bacon is crispy and serve it as an appetizer or a side dish.\n",
      "\n",
      "3. Bacon and Shrimp Potato Salad: Enhance the traditional German potato salad by adding cooked shrimp and crispy bacon bits. Toss the ingredients with a tangy mustard and vinegar dressing for a flavorful twist on a classic dish.\n",
      "\n",
      "4. Bacon-Wrapped Shrimp Bratwurst: Create a unique fusion by wrapping shrimp with bacon and grilling them alongside bratwurst sausages. Serve them on a bun with your favorite German condiments like sauerkraut, mustard, and onions.\n",
      "\n",
      "5. Shrimp and Bacon Spaetzle: Incorporate shrimp and bacon into homemade spaetzle by adding cooked shrimp and crispy bacon bits to the dough. Boil the spaetzle until cooked, then toss with butter, herbs, and grated cheese for a comforting and flavorful dish.\n",
      "\n",
      "Remember, these ideas are meant to be creative and experimental. Feel free to adjust the recipes to your taste preferences and enjoy exploring the delicious combination of bacon and shrimp in German cuisine!\n"
     ]
    }
   ],
   "source": [
    "response = chat(chat_prompt_with_values.to_messages()).content\n",
    "print (response)"
   ]
  },
  {
   "cell_type": "markdown",
   "id": "20a756b5",
   "metadata": {},
   "source": [
    "#### With Streaming"
   ]
  },
  {
   "cell_type": "code",
   "execution_count": 16,
   "id": "aac2d6f7",
   "metadata": {},
   "outputs": [
    {
     "name": "stdout",
     "output_type": "stream",
     "text": [
      "Incorporating bacon and shrimp into German cuisine can add a delicious twist to traditional dishes. Here are a few creative ideas:\n",
      "\n",
      "1. Bacon-Wrapped Shrimp Schnitzel: Prepare a classic schnitzel by pounding a pork cutlet, then wrap it with bacon before breading and frying. Serve it with a side of shrimp scampi, where the shrimp is sautéed in garlic, butter, and white wine.\n",
      "\n",
      "2. Bacon and Shrimp Sauerkraut Rolls: Stuff large shrimp with a mixture of sauerkraut, bacon, and spices. Wrap each shrimp with a slice of bacon and secure with toothpicks. Bake until the bacon is crispy and the shrimp is cooked through. Serve with a side of warm German potato salad.\n",
      "\n",
      "3. Shrimp and Bacon Spätzle: Add cooked shrimp and crispy bacon to traditional German spätzle. Sauté the shrimp and bacon together, then toss with cooked spätzle, butter, fresh herbs, and a squeeze of lemon juice. Garnish with grated Parmesan cheese.\n",
      "\n",
      "4. Bacon-Wrapped Shrimp Bratwurst: Wrap jumbo shrimp with bacon and grill them alongside bratwurst. Serve the bacon-wrapped shrimp on a bed of sauerkraut and top with a drizzle of spicy mustard. Enjoy them together with the grilled bratwurst in a bun.\n",
      "\n",
      "5. Bacon and Shrimp Potato Pancakes: Add cooked shrimp and crispy bacon to a traditional German potato pancake batter. Fry the pancakes until golden brown and serve them with a dollop of sour cream or applesauce on top. It's a delightful combination of flavors and textures.\n",
      "\n",
      "Remember to adjust the seasoning and cooking methods to suit your taste preferences and dietary restrictions. Enjoy exploring these creative bacon and shrimp additions to German cuisine!"
     ]
    }
   ],
   "source": [
    "from langchain.callbacks.manager import CallbackManager\n",
    "from langchain.callbacks.streaming_stdout import StreamingStdOutCallbackHandler\n",
    "chat = ChatOpenAI(streaming=True, callback_manager=CallbackManager([StreamingStdOutCallbackHandler()]), verbose=True, temperature=0)\n",
    "\n",
    "resp = chat(chat_prompt_with_values.to_messages())"
   ]
  },
  {
   "cell_type": "code",
   "execution_count": null,
   "id": "d771a133",
   "metadata": {},
   "outputs": [],
   "source": []
  }
 ],
 "metadata": {
  "kernelspec": {
   "display_name": "Python 3 (ipykernel)",
   "language": "python",
   "name": "python3"
  },
  "language_info": {
   "codemirror_mode": {
    "name": "ipython",
    "version": 3
   },
   "file_extension": ".py",
   "mimetype": "text/x-python",
   "name": "python",
   "nbconvert_exporter": "python",
   "pygments_lexer": "ipython3",
   "version": "3.11.4"
  }
 },
 "nbformat": 4,
 "nbformat_minor": 5
}
