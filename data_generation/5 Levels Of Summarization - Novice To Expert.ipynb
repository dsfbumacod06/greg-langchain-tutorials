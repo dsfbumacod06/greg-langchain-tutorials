{
 "cells": [
  {
   "cell_type": "markdown",
   "id": "fded102b",
   "metadata": {},
   "source": [
    "# 5 Levels Of Summarization: Novice to Expert"
   ]
  },
  {
   "cell_type": "markdown",
   "id": "fab8b2cf",
   "metadata": {},
   "source": [
    "Summarization is a fundamental building block of many LLM tasks. You'll frequently run into use cases where you would like to distill a large body of text into a succinct set of points.\n",
    "\n",
    "Depending on the length of the text you'd like to summarize, you have different summarization methods to choose from.\n",
    "\n",
    "We're going to run through 5 methods for summarization that start with Novice and end up expert. These aren't the only options, feel free to make up your own. If you find another one you like please share it with the community.\n",
    "\n",
    "**5 Levels Of Summarization:**\n",
    "1. **Summarize a couple sentences** - Basic Prompt\n",
    "2. **Summarize a couple paragraphs** - Prompt Templates\n",
    "3. **Summarize a couple pages** - Map Reduce\n",
    "4. **Summarize an entire book** - Best Representation Vectors\n",
    "5. **Summarize an unknown amount of text** - Agents\n",
    "\n",
    "First let's import our OpenAI API Key (best practice is to have this as an environment variable but showing it here for clarity)"
   ]
  },
  {
   "cell_type": "code",
   "execution_count": 2,
   "id": "4033ee5a",
   "metadata": {},
   "outputs": [
    {
     "data": {
      "text/plain": [
       "True"
      ]
     },
     "execution_count": 2,
     "metadata": {},
     "output_type": "execute_result"
    }
   ],
   "source": [
    "# openai_api_key = 'YourAPIKey'\n",
    "from dotenv import load_dotenv\n",
    "load_dotenv()"
   ]
  },
  {
   "cell_type": "markdown",
   "id": "342796d0",
   "metadata": {},
   "source": [
    "## Level 1: Basic Prompt - Summarize a couple sentences\n",
    "\n",
    "If you just have a few sentences you want to one-off summarize you can use a simple prompt and copy and paste your text.\n",
    "\n",
    "This method isn't scalable and only practical for a few use cases...the perfect level #1!"
   ]
  },
  {
   "cell_type": "code",
   "execution_count": 3,
   "id": "8a6ea241",
   "metadata": {},
   "outputs": [],
   "source": [
    "from langchain import OpenAI"
   ]
  },
  {
   "cell_type": "code",
   "execution_count": 4,
   "id": "538ded7c",
   "metadata": {},
   "outputs": [],
   "source": [
    "llm = OpenAI(temperature=0)"
   ]
  },
  {
   "cell_type": "markdown",
   "id": "b18ca4b1",
   "metadata": {},
   "source": [
    "The important part is to provide instructions for the LLM to know what to do. In thise case I'm telling the model I want a summary of the text below"
   ]
  },
  {
   "cell_type": "code",
   "execution_count": 5,
   "id": "67146e99",
   "metadata": {},
   "outputs": [],
   "source": [
    "prompt = \"\"\"\n",
    "Please provide a summary of the following text\n",
    "\n",
    "TEXT:\n",
    "Philosophy (from Greek: φιλοσοφία, philosophia, 'love of wisdom') \\\n",
    "is the systematized study of general and fundamental questions, \\\n",
    "such as those about existence, reason, knowledge, values, mind, and language. \\\n",
    "Some sources claim the term was coined by Pythagoras (c. 570 – c. 495 BCE), \\\n",
    "although this theory is disputed by some. Philosophical methods include questioning, \\\n",
    "critical discussion, rational argument, and systematic presentation.\n",
    "\"\"\""
   ]
  },
  {
   "cell_type": "code",
   "execution_count": 6,
   "id": "c3bd4858",
   "metadata": {},
   "outputs": [
    {
     "name": "stdout",
     "output_type": "stream",
     "text": [
      "Our prompt has 121 tokens\n"
     ]
    }
   ],
   "source": [
    "num_tokens = llm.get_num_tokens(prompt)\n",
    "print (f\"Our prompt has {num_tokens} tokens\")"
   ]
  },
  {
   "cell_type": "code",
   "execution_count": 7,
   "id": "61522722",
   "metadata": {},
   "outputs": [
    {
     "name": "stdout",
     "output_type": "stream",
     "text": [
      "\n",
      "Philosophy is a systematized study of general and fundamental questions about existence, reason, knowledge, values, mind, and language. It is believed to have been coined by Pythagoras, and its methods include questioning, critical discussion, rational argument, and systematic presentation.\n"
     ]
    }
   ],
   "source": [
    "output = llm(prompt)\n",
    "print (output)"
   ]
  },
  {
   "cell_type": "markdown",
   "id": "133d1b40",
   "metadata": {},
   "source": [
    "Woof 🐶, that summary is still hard to understand. Let me add to my instructions so that the output is easier to understand. I'll tell it to explain it to me like a 5 year old."
   ]
  },
  {
   "cell_type": "code",
   "execution_count": 8,
   "id": "ece0c069",
   "metadata": {},
   "outputs": [],
   "source": [
    "prompt = \"\"\"\n",
    "Please provide a summary of the following text.\n",
    "Please provide your output in a manner that a 5 year old would understand\n",
    "\n",
    "TEXT:\n",
    "Philosophy (from Greek: φιλοσοφία, philosophia, 'love of wisdom') \\\n",
    "is the systematized study of general and fundamental questions, \\\n",
    "such as those about existence, reason, knowledge, values, mind, and language. \\\n",
    "Some sources claim the term was coined by Pythagoras (c. 570 – c. 495 BCE), \\\n",
    "although this theory is disputed by some. Philosophical methods include questioning, \\\n",
    "critical discussion, rational argument, and systematic presentation.\n",
    "\"\"\""
   ]
  },
  {
   "cell_type": "code",
   "execution_count": 9,
   "id": "5b66351e",
   "metadata": {},
   "outputs": [
    {
     "name": "stdout",
     "output_type": "stream",
     "text": [
      "Our prompt has 137 tokens\n"
     ]
    }
   ],
   "source": [
    "num_tokens = llm.get_num_tokens(prompt)\n",
    "print (f\"Our prompt has {num_tokens} tokens\")"
   ]
  },
  {
   "cell_type": "code",
   "execution_count": 10,
   "id": "68f9b501",
   "metadata": {},
   "outputs": [
    {
     "name": "stdout",
     "output_type": "stream",
     "text": [
      "\n",
      "Philosophy is about asking questions and trying to figure out the answers. It is about thinking about things like existence, knowledge, and values. People have been doing this for a very long time, and it is still done today.\n"
     ]
    }
   ],
   "source": [
    "output = llm(prompt)\n",
    "print (output)"
   ]
  },
  {
   "cell_type": "markdown",
   "id": "6f294999",
   "metadata": {},
   "source": [
    "Nice! That's much better, but let's look at something we can automate a bit more"
   ]
  },
  {
   "cell_type": "markdown",
   "id": "13f1cf66",
   "metadata": {},
   "source": [
    "## Level 2: Prompt Templates - Summarize a couple paragraphs\n",
    "\n",
    "Prompt templates are a great way to dynamically place text within your prompts. They are like [python f-strings](https://realpython.com/python-f-strings/) but specialized for working with language models.\n",
    "\n",
    "We're going to look at 2 short Paul Graham essays"
   ]
  },
  {
   "cell_type": "code",
   "execution_count": 11,
   "id": "712acb03",
   "metadata": {},
   "outputs": [],
   "source": [
    "from langchain import OpenAI\n",
    "from langchain import PromptTemplate\n",
    "import os"
   ]
  },
  {
   "cell_type": "code",
   "execution_count": 12,
   "id": "b326aaeb",
   "metadata": {},
   "outputs": [],
   "source": [
    "paul_graham_essays = ['../data/PaulGrahamEssaySmall/getideas.txt', '../data/PaulGrahamEssaySmall/noob.txt']\n",
    "\n",
    "essays = []\n",
    "\n",
    "for file_name in paul_graham_essays:\n",
    "    with open(file_name, 'r') as file:\n",
    "        essays.append(file.read())"
   ]
  },
  {
   "cell_type": "markdown",
   "id": "529ad7c1",
   "metadata": {},
   "source": [
    "Let's print out a preview of the essays to see what they look like"
   ]
  },
  {
   "cell_type": "code",
   "execution_count": 13,
   "id": "d7d93873",
   "metadata": {},
   "outputs": [
    {
     "name": "stdout",
     "output_type": "stream",
     "text": [
      "Essay #1: January 2023(Someone fed my essays into GPT to make something that could answer\n",
      "questions based on them, then asked it where good ideas come from.  The\n",
      "answer was ok, but not what I would have said. This is what I would have said.)The way to get new ideas is to notice anomalies: what seems strange,\n",
      "\n",
      "\n",
      "Essay #2: January 2020When I was young, I thought old people had everything figured out.\n",
      "Now that I'm old, I know this isn't true.I constantly feel like a noob. It seems like I'm always talking to\n",
      "some startup working in a new field I know nothing about, or reading\n",
      "a book about a topic I don't understand well\n",
      "\n"
     ]
    }
   ],
   "source": [
    "for i, essay in enumerate(essays):\n",
    "    print (f\"Essay #{i+1}: {essay[:300]}\\n\")"
   ]
  },
  {
   "cell_type": "markdown",
   "id": "8e70a48e",
   "metadata": {},
   "source": [
    "Next let's create a prompt template which will hold our instructions and a placeholder for the essay. In this example I only want a 1 sentence summary to come back"
   ]
  },
  {
   "cell_type": "code",
   "execution_count": 14,
   "id": "946c379a",
   "metadata": {},
   "outputs": [],
   "source": [
    "template = \"\"\"\n",
    "Please write a one sentence summary of the following text:\n",
    "\n",
    "{essay}\n",
    "\"\"\"\n",
    "\n",
    "prompt = PromptTemplate(\n",
    "    input_variables=[\"essay\"],\n",
    "    template=template\n",
    ")"
   ]
  },
  {
   "cell_type": "markdown",
   "id": "51b2611b",
   "metadata": {},
   "source": [
    "Then let's loop through the 2 essays and pass them to our LLM. I'm applying .strip() on the summaries to remove the white space on the front and back of the output"
   ]
  },
  {
   "cell_type": "code",
   "execution_count": 15,
   "id": "f2038feb",
   "metadata": {},
   "outputs": [
    {
     "name": "stdout",
     "output_type": "stream",
     "text": [
      "This prompt + essay has 205 tokens\n",
      "Summary: A good way to get new ideas is to look for anomalies at the frontiers of knowledge.\n",
      "\n",
      "\n",
      "This prompt + essay has 500 tokens\n",
      "Summary: This text explores the idea that feeling like a \"noob\" is actually beneficial, as it is inversely correlated with actual ignorance and encourages us to discover new things.\n",
      "\n",
      "\n"
     ]
    }
   ],
   "source": [
    "for essay in essays:\n",
    "    summary_prompt = prompt.format(essay=essay)\n",
    "    \n",
    "    num_tokens = llm.get_num_tokens(summary_prompt)\n",
    "    print (f\"This prompt + essay has {num_tokens} tokens\")\n",
    "    \n",
    "    summary = llm(summary_prompt)\n",
    "    \n",
    "    print (f\"Summary: {summary.strip()}\")\n",
    "    print (\"\\n\")"
   ]
  },
  {
   "cell_type": "markdown",
   "id": "49ae9a41",
   "metadata": {},
   "source": [
    "## Level 3: Map Reduce - Summarize a couple pages multiple pages\n",
    "\n",
    "If you have multiple pages you'd like to summarize, you'll likely run into a token limit. Token limits won't always be a problem, but it is good to know how to handle them if you run into the issue.\n",
    "\n",
    "The chain type \"Map Reduce\" is a method that helps with this. You first generate a summary of smaller chunks (that fit within the token limit) and then you get a summary of the summaries.\\\n",
    "\n",
    "Check out [this video](https://www.youtube.com/watch?v=f9_BWhCI4Zo) for more information on how chain types work"
   ]
  },
  {
   "cell_type": "code",
   "execution_count": 16,
   "id": "c2ce6270",
   "metadata": {},
   "outputs": [],
   "source": [
    "from langchain import OpenAI\n",
    "from langchain.chains.summarize import load_summarize_chain\n",
    "from langchain.text_splitter import RecursiveCharacterTextSplitter"
   ]
  },
  {
   "cell_type": "code",
   "execution_count": 17,
   "id": "c70352ae",
   "metadata": {},
   "outputs": [],
   "source": [
    "paul_graham_essay = '../data/PaulGrahamEssays/startupideas.txt'\n",
    "\n",
    "with open(paul_graham_essay, 'r') as file:\n",
    "    essay = file.read()"
   ]
  },
  {
   "cell_type": "markdown",
   "id": "bb6de34d",
   "metadata": {},
   "source": [
    "Let's see how many tokens are in this essay"
   ]
  },
  {
   "cell_type": "code",
   "execution_count": 18,
   "id": "b133938a",
   "metadata": {},
   "outputs": [
    {
     "data": {
      "text/plain": [
       "9604"
      ]
     },
     "execution_count": 18,
     "metadata": {},
     "output_type": "execute_result"
    }
   ],
   "source": [
    "llm.get_num_tokens(essay)"
   ]
  },
  {
   "cell_type": "markdown",
   "id": "dc8ec39d",
   "metadata": {},
   "source": [
    "That's too many, let's split our text up into chunks so they fit into the prompt limit. I'm going a chunk size of 10,000 characters. \n",
    "\n",
    "> You can think of tokens as pieces of words used for natural language processing. For English text, **1 token is approximately 4 characters** or 0.75 words. As a point of reference, the collected works of Shakespeare are about 900,000 words or 1.2M tokens.\n",
    "\n",
    "This means the number of tokens we should expect is 10,000 / 4 = ~2,500 token chunks. But this will vary, each body of text/code will be different"
   ]
  },
  {
   "cell_type": "code",
   "execution_count": 19,
   "id": "2e7c372b",
   "metadata": {},
   "outputs": [],
   "source": [
    "text_splitter = RecursiveCharacterTextSplitter(separators=[\"\\n\\n\", \"\\n\"], chunk_size=10000, chunk_overlap=500)\n",
    "\n",
    "docs = text_splitter.create_documents([essay])"
   ]
  },
  {
   "cell_type": "code",
   "execution_count": 20,
   "id": "f66569f0",
   "metadata": {},
   "outputs": [
    {
     "name": "stdout",
     "output_type": "stream",
     "text": [
      "Now we have 5 documents and the first one has 2090 tokens\n"
     ]
    }
   ],
   "source": [
    "num_docs = len(docs)\n",
    "\n",
    "num_tokens_first_doc = llm.get_num_tokens(docs[0].page_content)\n",
    "\n",
    "print (f\"Now we have {num_docs} documents and the first one has {num_tokens_first_doc} tokens\")"
   ]
  },
  {
   "cell_type": "markdown",
   "id": "b61d49f5",
   "metadata": {},
   "source": [
    "Great, assuming that number of tokens is consistent in the other docs we should be good to go. Let's use LangChain's [load_summarize_chain](https://python.langchain.com/en/latest/use_cases/summarization.html) to do the `map_reducing` for us. We first need to initialize our chain"
   ]
  },
  {
   "cell_type": "code",
   "execution_count": 22,
   "id": "b3b08c54",
   "metadata": {},
   "outputs": [],
   "source": [
    "summary_chain = load_summarize_chain(llm=llm, chain_type='map_reduce',\n",
    "                                     verbose=True # Set verbose=True if you want to see the prompts being used\n",
    "                                    )"
   ]
  },
  {
   "cell_type": "markdown",
   "id": "78c45721",
   "metadata": {},
   "source": [
    "Now actually run it"
   ]
  },
  {
   "cell_type": "code",
   "execution_count": 23,
   "id": "ba73121e",
   "metadata": {},
   "outputs": [
    {
     "name": "stdout",
     "output_type": "stream",
     "text": [
      "\n",
      "\n",
      "\u001b[1m> Entering new MapReduceDocumentsChain chain...\u001b[0m\n",
      "\n",
      "\n",
      "\u001b[1m> Entering new LLMChain chain...\u001b[0m\n",
      "Prompt after formatting:\n",
      "\u001b[32;1m\u001b[1;3mWrite a concise summary of the following:\n",
      "\n",
      "\n",
      "\"Want to start a startup?  Get funded by\n",
      "Y Combinator.\n",
      "\n",
      "\n",
      "\n",
      "\n",
      "November 2012The way to get startup ideas is not to try to think of startup\n",
      "ideas.  It's to look for problems, preferably problems you have\n",
      "yourself.The very best startup ideas tend to have three things in common:\n",
      "they're something the founders themselves want, that they themselves\n",
      "can build, and that few others realize are worth doing.  Microsoft,\n",
      "Apple, Yahoo, Google, and Facebook all began this way.\n",
      "ProblemsWhy is it so important to work on a problem you have?  Among other\n",
      "things, it ensures the problem really exists.  It sounds obvious\n",
      "to say you should only work on problems that exist.  And yet by far\n",
      "the most common mistake startups make is to solve problems no one\n",
      "has.I made it myself.  In 1995 I started a company to put art galleries\n",
      "online.  But galleries didn't want to be online.  It's not how the\n",
      "art business works.  So why did I spend 6 months working on this\n",
      "stupid idea?  Because I didn't pay attention to users.  I invented\n",
      "a model of the world that didn't correspond to reality, and worked\n",
      "from that.  I didn't notice my model was wrong until I tried\n",
      "to convince users to pay for what we'd built.  Even then I took\n",
      "embarrassingly long to catch on.  I was attached to my model of the\n",
      "world, and I'd spent a lot of time on the software.  They had to\n",
      "want it!Why do so many founders build things no one wants?  Because they\n",
      "begin by trying to think of startup ideas.  That m.o. is doubly\n",
      "dangerous: it doesn't merely yield few good ideas; it yields bad\n",
      "ideas that sound plausible enough to fool you into working on them.At YC we call these \"made-up\" or \"sitcom\" startup ideas.  Imagine\n",
      "one of the characters on a TV show was starting a startup.  The\n",
      "writers would have to invent something for it to do.  But coming\n",
      "up with good startup ideas is hard.  It's not something you can do\n",
      "for the asking.  So (unless they got amazingly lucky) the writers\n",
      "would come up with an idea that sounded plausible, but was actually\n",
      "bad.For example, a social network for pet owners.  It doesn't sound\n",
      "obviously mistaken.  Millions of people have pets.  Often they care\n",
      "a lot about their pets and spend a lot of money on them.  Surely\n",
      "many of these people would like a site where they could talk to\n",
      "other pet owners.  Not all of them perhaps, but if just 2 or 3\n",
      "percent were regular visitors, you could have millions of users.\n",
      "You could serve them targeted offers, and maybe charge for premium\n",
      "features. \n",
      "[1]The danger of an idea like this is that when you run it by your\n",
      "friends with pets, they don't say \"I would never use this.\" They\n",
      "say \"Yeah, maybe I could see using something like that.\" Even when\n",
      "the startup launches, it will sound plausible to a lot of people.\n",
      "They don't want to use it themselves, at least not right now, but\n",
      "they could imagine other people wanting it.  Sum that reaction\n",
      "across the entire population, and you have zero users. \n",
      "[2]\n",
      "WellWhen a startup launches, there have to be at least some users who\n",
      "really need what they're making â€” not just people who could see\n",
      "themselves using it one day, but who want it urgently.  Usually\n",
      "this initial group of users is small, for the simple reason that\n",
      "if there were something that large numbers of people urgently needed\n",
      "and that could be built with the amount of effort a startup usually\n",
      "puts into a version one, it would probably already exist.  Which\n",
      "means you have to compromise on one dimension: you can either build\n",
      "something a large number of people want a small amount, or something\n",
      "a small number of people want a large amount.  Choose the latter.\n",
      "Not all ideas of that type are good startup ideas, but nearly all\n",
      "good startup ideas are of that type.Imagine a graph whose x axis represents all the people who might\n",
      "want what you're making and whose y axis represents how much they\n",
      "want it.  If you invert the scale on the y axis, you can envision\n",
      "companies as holes.  Google is an immense crater: hundreds of\n",
      "millions of people use it, and they need it a lot.  A startup just\n",
      "starting out can't expect to excavate that much volume.  So you\n",
      "have two choices about the shape of hole you start with.  You can\n",
      "either dig a hole that's broad but shallow, or one that's narrow\n",
      "and deep, like a well.Made-up startup ideas are usually of the first type.  Lots of people\n",
      "are mildly interested in a social network for pet owners.Nearly all good startup ideas are of the second type.  Microsoft\n",
      "was a well when they made Altair Basic.  There were only a couple\n",
      "thousand Altair owners, but without this software they were programming\n",
      "in machine language.  Thirty years later Facebook had the same\n",
      "shape.  Their first site was exclusively for Harvard students, of\n",
      "which there are only a few thousand, but those few thousand users\n",
      "wanted it a lot.When you have an idea for a startup, ask yourself: who wants this\n",
      "right now?  Who wants this so much that they'll use it even when\n",
      "it's a crappy version one made by a two-person startup they've never\n",
      "heard of?  If you can't answer that, the idea is probably bad. \n",
      "[3]You don't need the narrowness of the well per se.  It's depth you\n",
      "need; you get narrowness as a byproduct of optimizing for depth\n",
      "(and speed).  But you almost always do get it.  In practice the\n",
      "link between depth and narrowness is so strong that it's a good\n",
      "sign when you know that an idea will appeal strongly to a specific\n",
      "group or type of user.But while demand shaped like a well is almost a necessary condition\n",
      "for a good startup idea, it's not a sufficient one.  If Mark\n",
      "Zuckerberg had built something that could only ever have appealed\n",
      "to Harvard students, it would not have been a good startup idea.\n",
      "Facebook was a good idea because it started with a small market\n",
      "there was a fast path out of.  Colleges are similar enough that if\n",
      "you build a facebook that works at Harvard, it will work at any\n",
      "college. So you spread rapidly through all the colleges.  Once you\n",
      "have all the college students, you get everyone else simply by\n",
      "letting them in.Similarly for Microsoft: Basic for the Altair; Basic for other\n",
      "machines; other languages besides Basic; operating systems;\n",
      "applications; IPO.\n",
      "SelfHow do you tell whether there's a path out of an idea?  How do you\n",
      "tell whether something is the germ of a giant company, or just a\n",
      "niche product?  Often you can't. The founders of Airbnb didn't\n",
      "realize at first how big a market they were tapping.  Initially\n",
      "they had a much narrower idea.  They were going to let hosts rent\n",
      "out space on their floors during conventions.  They didn't foresee\n",
      "the expansion of this idea; it forced itself upon them gradually.\n",
      "All they knew at first is that they were onto something.  That's\n",
      "probably as much as Bill Gates or Mark Zuckerberg knew at first.Occasionally it's obvious from the beginning when there's a path\n",
      "out of the initial niche.  And sometimes I can see a path that's\n",
      "not immediately obvious; that's one of our specialties at YC.  But\n",
      "there are limits to how well this can be done, no matter how much\n",
      "experience you have.  The most important thing to understand about\n",
      "paths out of the initial idea is the meta-fact that these are hard\n",
      "to see.So if you can't predict whether there's a path out of an idea, how\n",
      "do you choose between ideas?  The truth is disappointing but\n",
      "interesting: if you're the right sort of person, you have the right\n",
      "sort of hunches.  If you're at the leading edge of a field that's\n",
      "changing fast, when you have a hunch that something is worth doing,\n",
      "you're more likely to be right.In Zen and the Art of Motorcycle Maintenance, Robert Pirsig says:\n",
      "\n",
      "  You want to know how to paint a perfect painting? It's easy.  Make\n",
      "  yourself perfect and then just paint naturally.\n",
      "\n",
      "I've wondered about that passage since I read it in high school.\n",
      "I'm not sure how useful his advice is for painting specifically,\n",
      "but it fits this situation well.  Empirically, the way to have good\n",
      "startup ideas is to become the sort of person who has them.Being at the leading edge of a field doesn't mean you have to be\n",
      "one of the people pushing it forward.  You can also be at the leading\n",
      "edge as a user.  It was not so much because he was a programmer\n",
      "that Facebook seemed a good idea to Mark Zuckerberg as because he\n",
      "used computers so much.  If you'd asked most 40 year olds in 2004\n",
      "whether they'd like to publish their lives semi-publicly on the\n",
      "Internet, they'd have been horrified at the idea.  But Mark already\n",
      "lived online; to him it seemed natural.Paul Buchheit says that people at the leading edge of a rapidly\n",
      "changing field \"live in the future.\"  Combine that with Pirsig and\n",
      "you get:\n",
      "\n",
      "  Live in the future, then build what's missing.\"\n",
      "\n",
      "\n",
      "CONCISE SUMMARY:\u001b[0m\n",
      "Prompt after formatting:\n",
      "\u001b[32;1m\u001b[1;3mWrite a concise summary of the following:\n",
      "\n",
      "\n",
      "\"Live in the future, then build what's missing.\n",
      "\n",
      "That describes the way many if not most of the biggest startups got\n",
      "started.  Neither Apple nor Yahoo nor Google nor Facebook were even\n",
      "supposed to be companies at first.  They grew out of things their\n",
      "founders built because there seemed a gap in the world.If you look at the way successful founders have had their ideas,\n",
      "it's generally the result of some external stimulus hitting a\n",
      "prepared mind.  Bill Gates and Paul Allen hear about the Altair and\n",
      "think \"I bet we could write a Basic interpreter for it.\" Drew Houston\n",
      "realizes he's forgotten his USB stick and thinks \"I really need to\n",
      "make my files live online.\" Lots of people heard about the Altair.\n",
      "Lots forgot USB sticks.  The reason those stimuli caused those\n",
      "founders to start companies was that their experiences had prepared\n",
      "them to notice the opportunities they represented.The verb you want to be using with respect to startup ideas is not\n",
      "\"think up\" but \"notice.\" At YC we call ideas that grow naturally\n",
      "out of the founders' own experiences \"organic\" startup ideas.  The\n",
      "most successful startups almost all begin this way.That may not have been what you wanted to hear.  You may have\n",
      "expected recipes for coming up with startup ideas, and instead I'm\n",
      "telling you that the key is to have a mind that's prepared in the\n",
      "right way.  But disappointing though it may be, this is the truth.\n",
      "And it is a recipe of a sort, just one that in the worst case takes\n",
      "a year rather than a weekend.If you're not at the leading edge of some rapidly changing field,\n",
      "you can get to one.  For example, anyone reasonably smart can\n",
      "probably get to an edge of programming (e.g. building mobile apps)\n",
      "in a year.  Since a successful startup will consume at least 3-5\n",
      "years of your life, a year's preparation would be a reasonable\n",
      "investment.  Especially if you're also looking for a cofounder.\n",
      "[4]You don't have to learn programming to be at the leading edge of a\n",
      "domain that's changing fast.  Other domains change fast.  But while\n",
      "learning to hack is not necessary, it is for the forseeable future\n",
      "sufficient. As Marc Andreessen put it, software is eating the world,\n",
      "and this trend has decades left to run.Knowing how to hack also means that when you have ideas, you'll be\n",
      "able to implement them.  That's not absolutely necessary (Jeff Bezos\n",
      "couldn't) but it's an advantage.  It's a big advantage, when you're\n",
      "considering an idea like putting a college facebook online, if\n",
      "instead of merely thinking \"That's an interesting idea,\" you can\n",
      "think instead \"That's an interesting idea.  I'll try building an\n",
      "initial version tonight.\"  It's even better when you're both a\n",
      "programmer and the target user, because then the cycle of generating\n",
      "new versions and testing them on users can happen inside one head.\n",
      "NoticingOnce you're living in the future in some respect, the way to notice\n",
      "startup ideas is to look for things that seem to be missing.  If\n",
      "you're really at the leading edge of a rapidly changing field, there\n",
      "will be things that are obviously missing.  What won't be obvious\n",
      "is that they're startup ideas.  So if you want to find startup\n",
      "ideas, don't merely turn on the filter \"What's missing?\" Also turn\n",
      "off every other filter, particularly \"Could this be a big company?\"\n",
      "There's plenty of time to apply that test later.  But if you're\n",
      "thinking about that initially, it may not only filter out lots\n",
      "of good ideas, but also cause you to focus on bad ones.Most things that are missing will take some time to see.  You almost\n",
      "have to trick yourself into seeing the ideas around you.But you know the ideas are out there.  This is not one of those\n",
      "problems where there might not be an answer.  It's impossibly\n",
      "unlikely that this is the exact moment when technological progress\n",
      "stops.  You can be sure people are going to build things in the\n",
      "next few years that will make you think \"What did I do before x?\"And when these problems get solved, they will probably seem flamingly\n",
      "obvious in retrospect.  What you need to do is turn off the filters\n",
      "that usually prevent you from seeing them.  The most powerful is\n",
      "simply taking the current state of the world for granted.  Even the\n",
      "most radically open-minded of us mostly do that.  You couldn't get\n",
      "from your bed to the front door if you stopped to question everything.But if you're looking for startup ideas you can sacrifice some of\n",
      "the efficiency of taking the status quo for granted and start to\n",
      "question things.  Why is your inbox overflowing?  Because you get\n",
      "a lot of email, or because it's hard to get email out of your inbox?\n",
      "Why do you get so much email?  What problems are people trying to\n",
      "solve by sending you email?  Are there better ways to solve them?\n",
      "And why is it hard to get emails out of your inbox?  Why do you\n",
      "keep emails around after you've read them?  Is an inbox the optimal\n",
      "tool for that?Pay particular attention to things that chafe you.  The advantage\n",
      "of taking the status quo for granted is not just that it makes life\n",
      "(locally) more efficient, but also that it makes life more tolerable.\n",
      "If you knew about all the things we'll get in the next 50 years but\n",
      "don't have yet, you'd find present day life pretty constraining,\n",
      "just as someone from the present would if they were sent back 50\n",
      "years in a time machine.  When something annoys you, it could be\n",
      "because you're living in the future.When you find the right sort of problem, you should probably be\n",
      "able to describe it as obvious, at least to you.  When we started\n",
      "Viaweb, all the online stores were built by hand, by web designers\n",
      "making individual HTML pages.  It was obvious to us as programmers\n",
      "that these sites would have to be generated by software.\n",
      "[5]Which means, strangely enough, that coming up with startup ideas\n",
      "is a question of seeing the obvious.  That suggests how weird this\n",
      "process is: you're trying to see things that are obvious, and yet\n",
      "that you hadn't seen.Since what you need to do here is loosen up your own mind, it may\n",
      "be best not to make too much of a direct frontal attack on the\n",
      "problem â€” i.e. to sit down and try to think of ideas.  The best\n",
      "plan may be just to keep a background process running, looking for\n",
      "things that seem to be missing.  Work on hard problems, driven\n",
      "mainly by curiosity, but have a second self watching over your\n",
      "shoulder, taking note of gaps and anomalies.  \n",
      "[6]Give yourself some time.  You have a lot of control over the rate\n",
      "at which you turn yours into a prepared mind, but you have less\n",
      "control over the stimuli that spark ideas when they hit it.  If\n",
      "Bill Gates and Paul Allen had constrained themselves to come up\n",
      "with a startup idea in one month, what if they'd chosen a month\n",
      "before the Altair appeared?  They probably would have worked on a\n",
      "less promising idea.  Drew Houston did work on a less promising\n",
      "idea before Dropbox: an SAT prep startup.  But Dropbox was a much\n",
      "better idea, both in the absolute sense and also as a match for his\n",
      "skills.\n",
      "[7]A good way to trick yourself into noticing ideas is to work on\n",
      "projects that seem like they'd be cool.  If you do that, you'll\n",
      "naturally tend to build things that are missing.  It wouldn't seem\n",
      "as interesting to build something that already existed.Just as trying to think up startup ideas tends to produce bad ones,\n",
      "working on things that could be dismissed as \"toys\" often produces\n",
      "good ones.  When something is described as a toy, that means it has\n",
      "everything an idea needs except being important.  It's cool; users\n",
      "love it; it just doesn't matter.  But if you're living in the future\n",
      "and you build something cool that users love, it may matter more\n",
      "than outsiders think.  Microcomputers seemed like toys when Apple\n",
      "and Microsoft started working on them.  I'm old enough to remember\n",
      "that era; the usual term for people with their own microcomputers\n",
      "was \"hobbyists.\"  BackRub seemed like an inconsequential science\n",
      "project.  The Facebook was just a way for undergrads to stalk one\n",
      "another.At YC we're excited when we meet startups working on things that\n",
      "we could imagine know-it-alls on forums dismissing as toys.  To us\n",
      "that's positive evidence an idea is good.If you can afford to take a long view (and arguably you can't afford\n",
      "not to), you can turn \"Live in the future and build what's missing\"\n",
      "into something even better:\n",
      "\n",
      "  Live in the future and build what seems interesting.\"\n",
      "\n",
      "\n",
      "CONCISE SUMMARY:\u001b[0m\n",
      "Prompt after formatting:\n",
      "\u001b[32;1m\u001b[1;3mWrite a concise summary of the following:\n",
      "\n",
      "\n",
      "\"SchoolThat's what I'd advise college students to do, rather than trying\n",
      "to learn about \"entrepreneurship.\"  \"Entrepreneurship\" is something\n",
      "you learn best by doing it.  The examples of the most successful\n",
      "founders make that clear.  What you should be spending your time\n",
      "on in college is ratcheting yourself into the future.  College is\n",
      "an incomparable opportunity to do that.  What a waste to sacrifice\n",
      "an opportunity to solve the hard part of starting a startup â€” becoming \n",
      "the sort of person who can have organic startup ideas â€” by \n",
      "spending time learning about the easy part.  Especially since\n",
      "you won't even really learn about it, any more than you'd learn\n",
      "about sex in a class.  All you'll learn is the words for things.The clash of domains is a particularly fruitful source of ideas.\n",
      "If you know a lot about programming and you start learning about\n",
      "some other field, you'll probably see problems that software could\n",
      "solve.  In fact, you're doubly likely to find good problems in\n",
      "another domain: (a) the inhabitants of that domain are not as likely\n",
      "as software people to have already solved their problems with\n",
      "software, and (b) since you come into the new domain totally ignorant,\n",
      "you don't even know what the status quo is to take it for granted.So if you're a CS major and you want to start a startup, instead\n",
      "of taking a class on entrepreneurship you're better off taking a\n",
      "class on, say, genetics.  Or better still, go work for a biotech\n",
      "company.  CS majors normally get summer jobs at computer hardware\n",
      "or software companies.  But if you want to find startup ideas, you\n",
      "might do better to get a summer job in some unrelated field. \n",
      "[8]Or don't take any extra classes, and just build things.  It's no\n",
      "coincidence that Microsoft and Facebook both got started in January.\n",
      "At Harvard that is (or was) Reading Period, when students have no\n",
      "classes to attend because they're supposed to be studying for finals.\n",
      "[9]But don't feel like you have to build things that will become startups.  That's\n",
      "premature optimization. Just build things.  Preferably with other\n",
      "students.  It's not just the classes that make a university such a\n",
      "good place to crank oneself into the future.  You're also surrounded\n",
      "by other people trying to do the same thing.  If you work together\n",
      "with them on projects, you'll end up producing not just organic\n",
      "ideas, but organic ideas with organic founding teams â€” and that,\n",
      "empirically, is the best combination.Beware of research.  If an undergrad writes something all his friends\n",
      "start using, it's quite likely to represent a good startup idea.\n",
      "Whereas a PhD dissertation is extremely unlikely to.  For some\n",
      "reason, the more a project has to count as research, the less likely\n",
      "it is to be something that could be turned into a startup.\n",
      "[10]\n",
      "I think the reason is that the subset of ideas that count as research\n",
      "is so narrow that it's unlikely that a project that satisfied that\n",
      "constraint would also satisfy the orthogonal constraint of solving\n",
      "users' problems.  Whereas when students (or professors) build\n",
      "something as a side-project, they automatically gravitate toward\n",
      "solving users' problems â€” perhaps even with an additional energy\n",
      "that comes from being freed from the constraints of research.\n",
      "CompetitionBecause a good idea should seem obvious, when you have one you'll\n",
      "tend to feel that you're late.  Don't let that deter you.  Worrying\n",
      "that you're late is one of the signs of a good idea.  Ten minutes\n",
      "of searching the web will usually settle the question.  Even if you\n",
      "find someone else working on the same thing, you're probably not\n",
      "too late.  It's exceptionally rare for startups to be killed by\n",
      "competitors â€” so rare that you can almost discount the possibility.\n",
      "So unless you discover a competitor with the sort of lock-in that\n",
      "would prevent users from choosing you, don't discard the idea.If you're uncertain, ask users.  The question of whether you're too\n",
      "late is subsumed by the question of whether anyone urgently needs\n",
      "what you plan to make.  If you have something that no competitor\n",
      "does and that some subset of users urgently need, you have a\n",
      "beachhead.  \n",
      "[11]The question then is whether that beachhead is big enough. Or more\n",
      "importantly, who's in it: if the beachhead consists of people doing\n",
      "something lots more people will be doing in the future, then it's\n",
      "probably big enough no matter how small it is.  For example, if\n",
      "you're building something differentiated from competitors by the\n",
      "fact that it works on phones, but it only works on the newest phones,\n",
      "that's probably a big enough beachhead.Err on the side of doing things where you'll face competitors.\n",
      "Inexperienced founders usually give competitors more credit than\n",
      "they deserve.  Whether you succeed depends far more on you than on\n",
      "your competitors.  So better a good idea with competitors than a\n",
      "bad one without.You don't need to worry about entering a \"crowded market\" so long\n",
      "as you have a thesis about what everyone else in it is overlooking.\n",
      "In fact that's a very promising starting point.  Google was that\n",
      "type of idea.  Your thesis has to be more precise than \"we're going\n",
      "to make an x that doesn't suck\" though. You have to be able to\n",
      "phrase it in terms of something the incumbents are overlooking.\n",
      "Best of all is when you can say that they didn't have the courage\n",
      "of their convictions, and that your plan is what they'd have done\n",
      "if they'd followed through on their own insights.  Google was that\n",
      "type of idea too.  The search engines that preceded them shied away\n",
      "from the most radical implications of what they were doing â€” particularly \n",
      "that the better a job they did, the faster users would\n",
      "leave.A crowded market is actually a good sign, because it means both\n",
      "that there's demand and that none of the existing solutions are\n",
      "good enough.  A startup can't hope to enter a market that's obviously\n",
      "big and yet in which they have no competitors.  So any startup that\n",
      "succeeds is either going to be entering a market with existing\n",
      "competitors, but armed with some secret weapon that will get them\n",
      "all the users (like Google), or entering a market that looks small\n",
      "but which will turn out to be big (like Microsoft).  \n",
      "[12]\n",
      "FiltersThere are two more filters you'll need to turn off if you want to\n",
      "notice startup ideas: the unsexy filter and the schlep filter.Most programmers wish they could start a startup by just writing\n",
      "some brilliant code, pushing it to a server, and having users pay\n",
      "them lots of money.  They'd prefer not to deal with tedious problems\n",
      "or get involved in messy ways with the real world.  Which is a\n",
      "reasonable preference, because such things slow you down.  But this\n",
      "preference is so widespread that the space of convenient startup\n",
      "ideas has been stripped pretty clean.  If you let your mind wander\n",
      "a few blocks down the street to the messy, tedious ideas, you'll\n",
      "find valuable ones just sitting there waiting to be implemented.The schlep filter is so dangerous that I wrote a separate essay\n",
      "about the condition it induces, which I called \n",
      "schlep blindness.\n",
      "I gave Stripe as an example of a startup that benefited from turning\n",
      "off this filter, and a pretty striking example it is.  Thousands\n",
      "of programmers were in a position to see this idea; thousands of\n",
      "programmers knew how painful it was to process payments before\n",
      "Stripe.  But when they looked for startup ideas they didn't see\n",
      "this one, because unconsciously they shrank from having to deal\n",
      "with payments.  And dealing with payments is a schlep for Stripe,\n",
      "but not an intolerable one.  In fact they might have had net less\n",
      "pain; because the fear of dealing with payments kept most people\n",
      "away from this idea, Stripe has had comparatively smooth sailing\n",
      "in other areas that are sometimes painful, like user acquisition.\n",
      "They didn't have to try very hard to make themselves heard by users,\n",
      "because users were desperately waiting for what they were building.The unsexy filter is similar to the schlep filter, except it keeps\n",
      "you from working on problems you despise rather than ones you fear.\n",
      "We overcame this one to work on Viaweb. There were interesting\n",
      "things about the architecture of our software, but we weren't\n",
      "interested in ecommerce per se.  We could see the problem was one\n",
      "that needed to be solved though.Turning off the schlep filter is more important than turning off\n",
      "the unsexy filter, because the schlep filter is more likely to be\n",
      "an illusion.  And even to the degree it isn't, it's a worse form\n",
      "of self-indulgence.  Starting a successful startup is going to be\n",
      "fairly laborious no matter what.  Even if the product doesn't entail\n",
      "a lot of schleps, you'll still have plenty dealing with investors,\n",
      "hiring and firing people, and so on.  So if there's some idea you\n",
      "think would be cool but you're kept away from by fear of the schleps\n",
      "involved, don't worry: any sufficiently good idea will have as many.The unsexy filter, while still a source of error, is not as entirely\n",
      "useless as the schlep filter.  If you're at the leading edge of a\n",
      "field that's changing rapidly, your ideas about what's sexy will\n",
      "be somewhat correlated with what's valuable in practice.  Particularly\n",
      "as you get older and more experienced.  Plus if you find an idea\n",
      "sexy, you'll work on it more enthusiastically. \n",
      "[13]\n",
      "RecipesWhile the best way to discover startup ideas is to become the sort\n",
      "of person who has them and then build whatever interests you,\n",
      "sometimes you don't have that luxury.  Sometimes you need an idea\n",
      "now.  For example, if you're working on a startup and your initial\n",
      "idea turns out to be bad.For the rest of this essay I'll talk about tricks for coming up\n",
      "with startup ideas on demand.  Although empirically you're better\n",
      "off using the organic strategy, you could succeed this way. You\n",
      "just have to be more disciplined.  When you use the organic method,\n",
      "you don't even notice an idea unless it's evidence that something\n",
      "is truly missing.  But when you make a conscious effort to think\n",
      "of startup ideas, you have to replace this natural constraint with\"\n",
      "\n",
      "\n",
      "CONCISE SUMMARY:\u001b[0m\n",
      "Prompt after formatting:\n",
      "\u001b[32;1m\u001b[1;3mWrite a concise summary of the following:\n",
      "\n",
      "\n",
      "\"idea turns out to be bad.For the rest of this essay I'll talk about tricks for coming up\n",
      "with startup ideas on demand.  Although empirically you're better\n",
      "off using the organic strategy, you could succeed this way. You\n",
      "just have to be more disciplined.  When you use the organic method,\n",
      "you don't even notice an idea unless it's evidence that something\n",
      "is truly missing.  But when you make a conscious effort to think\n",
      "of startup ideas, you have to replace this natural constraint with\n",
      "self-discipline.  You'll see a lot more ideas, most of them bad,\n",
      "so you need to be able to filter them.One of the biggest dangers of not using the organic method is the\n",
      "example of the organic method.  Organic ideas feel like inspirations.\n",
      "There are a lot of stories about successful startups that began\n",
      "when the founders had what seemed a crazy idea but \"just knew\" it\n",
      "was promising.  When you feel that about an idea you've had while\n",
      "trying to come up with startup ideas, you're probably mistaken.When searching for ideas, look in areas where you have some expertise.\n",
      "If you're a database expert, don't build a chat app for teenagers\n",
      "(unless you're also a teenager).  Maybe it's a good idea, but you\n",
      "can't trust your judgment about that, so ignore it.  There have to\n",
      "be other ideas that involve databases, and whose quality you can\n",
      "judge.  Do you find it hard to come up with good ideas involving\n",
      "databases?  That's because your expertise raises your standards.\n",
      "Your ideas about chat apps are just as bad, but you're giving\n",
      "yourself a Dunning-Kruger pass in that domain.The place to start looking for ideas is things you need.  There\n",
      "must be things you need.\n",
      "[14]One good trick is to ask yourself whether in your previous job you\n",
      "ever found yourself saying \"Why doesn't someone make x?  If someone\n",
      "made x we'd buy it in a second.\" If you can think of any x people\n",
      "said that about, you probably have an idea.  You know there's demand,\n",
      "and people don't say that about things that are impossible to build.More generally, try asking yourself whether there's something unusual\n",
      "about you that makes your needs different from most other people's.\n",
      "You're probably not the only one.  It's especially good if you're\n",
      "different in a way people will increasingly be.If you're changing ideas, one unusual thing about you is the idea\n",
      "you'd previously been working on.  Did you discover any needs while\n",
      "working on it?  Several well-known startups began this way.  Hotmail\n",
      "began as something its founders wrote to talk about their previous\n",
      "startup idea while they were working at their day jobs. \n",
      "[15]A particularly promising way to be unusual is to be young.  Some\n",
      "of the most valuable new ideas take root first among people in their\n",
      "teens and early twenties.  And while young founders are at a\n",
      "disadvantage in some respects, they're the only ones who really\n",
      "understand their peers.  It would have been very hard for someone\n",
      "who wasn't a college student to start Facebook.  So if you're a\n",
      "young founder (under 23 say), are there things you and your friends\n",
      "would like to do that current technology won't let you?The next best thing to an unmet need of your own is an unmet need\n",
      "of someone else.  Try talking to everyone you can about the gaps\n",
      "they find in the world.  What's missing?  What would they like to\n",
      "do that they can't?  What's tedious or annoying, particularly in\n",
      "their work?  Let the conversation get general; don't be trying too\n",
      "hard to find startup ideas.  You're just looking for something to\n",
      "spark a thought.  Maybe you'll notice a problem they didn't consciously\n",
      "realize they had, because you know how to solve it.When you find an unmet need that isn't your own, it may be somewhat\n",
      "blurry at first.  The person who needs something may not know exactly\n",
      "what they need.  In that case I often recommend that founders act\n",
      "like consultants â€” that they do what they'd do if they'd been\n",
      "retained to solve the problems of this one user.  People's problems\n",
      "are similar enough that nearly all the code you write this way will\n",
      "be reusable, and whatever isn't will be a small price to start out\n",
      "certain that you've reached the bottom of the well.\n",
      "[16]One way to ensure you do a good job solving other people's problems\n",
      "is to make them your own.  When Rajat Suri of E la Carte decided\n",
      "to write software for restaurants, he got a job as a waiter to learn\n",
      "how restaurants worked.  That may seem like taking things to extremes,\n",
      "but startups are extreme.  We love it when founders do such things.In fact, one strategy I recommend to people who need a new idea is\n",
      "not merely to turn off their schlep and unsexy filters, but to seek\n",
      "out ideas that are unsexy or involve schleps.  Don't try to start\n",
      "Twitter.  Those ideas are so rare that you can't find them by looking\n",
      "for them.  Make something unsexy that people will pay you for.A good trick for bypassing the schlep and to some extent the unsexy\n",
      "filter is to ask what you wish someone else would build, so that\n",
      "you could use it.  What would you pay for right now?Since startups often garbage-collect broken companies and industries,\n",
      "it can be a good trick to look for those that are dying, or deserve\n",
      "to, and try to imagine what kind of company would profit from their\n",
      "demise.  For example, journalism is in free fall at the moment.\n",
      "But there may still be money to be made from something like journalism.\n",
      "What sort of company might cause people in the future to say \"this\n",
      "replaced journalism\" on some axis?But imagine asking that in the future, not now.  When one company\n",
      "or industry replaces another, it usually comes in from the side.\n",
      "So don't look for a replacement for x; look for something that\n",
      "people will later say turned out to be a replacement for x.  And\n",
      "be imaginative about the axis along which the replacement occurs.\n",
      "Traditional journalism, for example, is a way for readers to get\n",
      "information and to kill time, a way for writers to make money and\n",
      "to get attention, and a vehicle for several different types of\n",
      "advertising.  It could be replaced on any of these axes (it has\n",
      "already started to be on most).When startups consume incumbents, they usually start by serving\n",
      "some small but important market that the big players ignore.  It's\n",
      "particularly good if there's an admixture of disdain in the big\n",
      "players' attitude, because that often misleads them.  For example,\n",
      "after Steve Wozniak built the computer that became the Apple I, he\n",
      "felt obliged to give his then-employer Hewlett-Packard the option\n",
      "to produce it.  Fortunately for him, they turned it down, and one\n",
      "of the reasons they did was that it used a TV for a monitor, which\n",
      "seemed intolerably dÃ©classÃ© to a high-end hardware company like HP\n",
      "was at the time. \n",
      "[17]Are there groups of \n",
      "scruffy \n",
      "but sophisticated users like the early\n",
      "microcomputer \"hobbyists\" that are currently being ignored by the\n",
      "big players?  A startup with its sights set on bigger things can\n",
      "often capture a small market easily by expending an effort that\n",
      "wouldn't be justified by that market alone.Similarly, since the most successful startups generally ride some\n",
      "wave bigger than themselves, it could be a good trick to look for\n",
      "waves and ask how one could benefit from them.  The prices of gene\n",
      "sequencing and 3D printing are both experiencing Moore's Law-like\n",
      "declines.  What new things will we be able to do in the new world\n",
      "we'll have in a few years?  What are we unconsciously ruling out\n",
      "as impossible that will soon be possible?\n",
      "OrganicBut talking about looking explicitly for waves makes it clear that\n",
      "such recipes are plan B for getting startup ideas.  Looking for\n",
      "waves is essentially a way to simulate the organic method.  If\n",
      "you're at the leading edge of some rapidly changing field, you don't\n",
      "have to look for waves; you are the wave.Finding startup ideas is a subtle business, and that's why most\n",
      "people who try fail so miserably.  It doesn't work well simply to\n",
      "try to think of startup ideas.  If you do that, you get bad ones\n",
      "that sound dangerously plausible.  The best approach is more indirect:\n",
      "if you have the right sort of background, good startup ideas will\n",
      "seem obvious to you.  But even then, not immediately.  It takes\n",
      "time to come across situations where you notice something missing.\n",
      "And often these gaps won't seem to be ideas for companies, just\n",
      "things that would be interesting to build.  Which is why it's good\n",
      "to have the time and the inclination to build things just because\n",
      "they're interesting.Live in the future and build what seems interesting.  Strange as\n",
      "it sounds, that's the real recipe.\n",
      "Notes[1]\n",
      "This form of bad idea has been around as long as the web.  It\n",
      "was common in the 1990s, except then people who had it used to say\n",
      "they were going to create a portal for x instead of a social network\n",
      "for x.  Structurally the idea is stone soup: you post a sign saying\n",
      "\"this is the place for people interested in x,\" and all those people\n",
      "show up and you make money from them.  What lures founders into\n",
      "this sort of idea are statistics about the millions of people who\n",
      "might be interested in each type of x.  What they forget is that\n",
      "any given person might have 20 affinities by this standard, and no\n",
      "one is going to visit 20 different communities regularly.[2]\n",
      "I'm not saying, incidentally, that I know for sure a social\n",
      "network for pet owners is a bad idea.  I know it's a bad idea the\n",
      "way I know randomly generated DNA would not produce a viable organism.\n",
      "The set of plausible sounding startup ideas is many times larger\n",
      "than the set of good ones, and many of the good ones don't even\n",
      "sound that plausible.  So if all you know about a startup idea is\n",
      "that it sounds plausible, you have to assume it's bad.[3]\n",
      "More precisely, the users' need has to give them sufficient\n",
      "activation energy to start using whatever you make, which can vary\n",
      "a lot.  For example, the activation energy for enterprise software\n",
      "sold through traditional channels is very high, so you'd have to\n",
      "be a lot better to get users to switch.  Whereas the activation\"\n",
      "\n",
      "\n",
      "CONCISE SUMMARY:\u001b[0m\n",
      "Prompt after formatting:\n",
      "\u001b[32;1m\u001b[1;3mWrite a concise summary of the following:\n",
      "\n",
      "\n",
      "\"sound that plausible.  So if all you know about a startup idea is\n",
      "that it sounds plausible, you have to assume it's bad.[3]\n",
      "More precisely, the users' need has to give them sufficient\n",
      "activation energy to start using whatever you make, which can vary\n",
      "a lot.  For example, the activation energy for enterprise software\n",
      "sold through traditional channels is very high, so you'd have to\n",
      "be a lot better to get users to switch.  Whereas the activation\n",
      "energy required to switch to a new search engine is low.  Which in\n",
      "turn is why search engines are so much better than enterprise\n",
      "software.[4]\n",
      "This gets harder as you get older.  While the space of ideas\n",
      "doesn't have dangerous local maxima, the space of careers does.\n",
      "There are fairly high walls between most of the paths people take\n",
      "through life, and the older you get, the higher the walls become.[5]\n",
      "It was also obvious to us that the web was going to be a big\n",
      "deal.  Few non-programmers grasped that in 1995, but the programmers\n",
      "had seen what GUIs had done for desktop computers.[6]\n",
      "Maybe it would work to have this second self keep a journal,\n",
      "and each night to make a brief entry listing the gaps and anomalies\n",
      "you'd noticed that day.  Not startup ideas, just the raw gaps and\n",
      "anomalies.[7]\n",
      "Sam Altman points out that taking time to come up with an\n",
      "idea is not merely a better strategy in an absolute sense, but also\n",
      "like an undervalued stock in that so few founders do it.There's comparatively little competition for the best ideas, because\n",
      "few founders are willing to put in the time required to notice them.\n",
      "Whereas there is a great deal of competition for mediocre ideas,\n",
      "because when people make up startup ideas, they tend to make up the\n",
      "same ones.[8]\n",
      "For the computer hardware and software companies, summer jobs\n",
      "are the first phase of the recruiting funnel.  But if you're good\n",
      "you can skip the first phase.  If you're good you'll have no trouble\n",
      "getting hired by these companies when you graduate, regardless of\n",
      "how you spent your summers.[9]\n",
      "The empirical evidence suggests that if colleges want to help\n",
      "their students start startups, the best thing they can do is leave\n",
      "them alone in the right way.[10]\n",
      "I'm speaking here of IT startups; in biotech things are different.[11]\n",
      "This is an instance of a more general rule: focus on users,\n",
      "not competitors.  The most important information about competitors\n",
      "is what you learn via users anyway.[12]\n",
      "In practice most successful startups have elements of both.\n",
      "And you can describe each strategy in terms of the other by adjusting\n",
      "the boundaries of what you call the market.  But it's useful to\n",
      "consider these two ideas separately.[13]\n",
      "I almost hesitate to raise that point though.  Startups are\n",
      "businesses; the point of a business is to make money; and with that\n",
      "additional constraint, you can't expect you'll be able to spend all\n",
      "your time working on what interests you most.[14]\n",
      "The need has to be a strong one.  You can retroactively\n",
      "describe any made-up idea as something you need.  But do you really\n",
      "need that recipe site or local event aggregator as much as Drew\n",
      "Houston needed Dropbox, or Brian Chesky and Joe Gebbia needed Airbnb?Quite often at YC I find myself asking founders \"Would you use this\n",
      "thing yourself, if you hadn't written it?\" and you'd be surprised\n",
      "how often the answer is no.[15]\n",
      "Paul Buchheit points out that trying to sell something bad\n",
      "can be a source of better ideas:\"The best technique I've found for dealing with YC companies that\n",
      "have bad ideas is to tell them to go sell the product ASAP (before\n",
      "wasting time building it). Not only do they learn that nobody\n",
      "wants what they are building, they very often come back with a\n",
      "real idea that they discovered in the process of trying to sell\n",
      "the bad idea.\"[16]\n",
      "Here's a recipe that might produce the next Facebook, if\n",
      "you're college students.  If you have a connection to one of the\n",
      "more powerful sororities at your school, approach the queen bees\n",
      "thereof and offer to be their personal IT consultants, building\n",
      "anything they could imagine needing in their social lives that\n",
      "didn't already exist.  Anything that got built this way would be\n",
      "very promising, because such users are not just the most demanding\n",
      "but also the perfect point to spread from.I have no idea whether this would work.[17]\n",
      "And the reason it used a TV for a monitor is that Steve Wozniak\n",
      "started out by solving his own problems.  He, like most of his\n",
      "peers, couldn't afford a monitor.Thanks to Sam Altman, Mike Arrington, Paul Buchheit, John Collison,\n",
      "Patrick Collison, Garry Tan, and Harj Taggar for reading drafts of\n",
      "this, and Marc Andreessen, Joe Gebbia, Reid Hoffman, Shel Kaphan,\n",
      "Mike Moritz and Kevin Systrom for answering my questions about\n",
      "startup history.\"\n",
      "\n",
      "\n",
      "CONCISE SUMMARY:\u001b[0m\n",
      "\n",
      "\u001b[1m> Finished chain.\u001b[0m\n",
      "\n",
      "\n",
      "\u001b[1m> Entering new LLMChain chain...\u001b[0m\n",
      "Prompt after formatting:\n",
      "\u001b[32;1m\u001b[1;3mWrite a concise summary of the following:\n",
      "\n",
      "\n",
      "\" Y Combinator explains that the best startup ideas come from looking for problems, preferably ones that the founders have themselves. They suggest that the best ideas are ones that the founders want, can build, and that few others realize are worth doing. They also suggest that the best ideas are ones that a small number of people want a lot, rather than a large number of people wanting a small amount. Finally, they suggest that the best ideas come from living in the future and building what's missing.\n",
      "\n",
      " Many successful startups have grown out of things their founders built because there seemed to be a gap in the world. To find startup ideas, one should look for things that seem to be missing and pay attention to things that chafe them. It is important to turn off the filter of \"Could this be a big company?\" and to live in the future and build what seems interesting.\n",
      "\n",
      " College students should focus on learning and developing skills in college rather than trying to learn about entrepreneurship. The best way to come up with startup ideas is to become the sort of person who has them and then build whatever interests you. However, there are tricks for coming up with startup ideas on demand, such as turning off the unsexy and schlep filters, and looking for ideas in crowded markets.\n",
      "\n",
      " This essay discusses tricks for coming up with startup ideas on demand. It suggests looking in areas of expertise, talking to people about their needs, and looking for waves and gaps in the market. It also suggests making the needs of others one's own and looking for small but important markets that are being ignored. Finally, it suggests living in the future and building what seems interesting.\n",
      "\n",
      " Sam Altman points out that taking time to come up with an idea is a better strategy than most founders are willing to put in the time for. Paul Buchheit suggests that trying to sell something bad can lead to better ideas. He then provides a recipe for college students to potentially create the next Facebook. Altman, Arrington, Buchheit, Collison, Tan, and Taggar read drafts of this, and Andreessen, Gebbia, Hoffman, Kaphan, Moritz, and Systrom answered questions about startup history.\"\n",
      "\n",
      "\n",
      "CONCISE SUMMARY:\u001b[0m\n",
      "\n",
      "\u001b[1m> Finished chain.\u001b[0m\n",
      "\n",
      "\u001b[1m> Finished chain.\u001b[0m\n"
     ]
    }
   ],
   "source": [
    "output = summary_chain.run(docs)"
   ]
  },
  {
   "cell_type": "code",
   "execution_count": 24,
   "id": "693acf9d",
   "metadata": {},
   "outputs": [
    {
     "data": {
      "text/plain": [
       "' Y Combinator explains that the best startup ideas come from looking for problems, preferably ones that the founders have themselves. Sam Altman and Paul Buchheit provide advice on how to come up with startup ideas on demand, such as looking in areas of expertise, talking to people about their needs, and looking for waves and gaps in the market. They also suggest living in the future and building what seems interesting. Several successful entrepreneurs have provided input on this essay.'"
      ]
     },
     "execution_count": 24,
     "metadata": {},
     "output_type": "execute_result"
    }
   ],
   "source": [
    "output"
   ]
  },
  {
   "cell_type": "markdown",
   "id": "3bc3a71e",
   "metadata": {},
   "source": [
    "This summary is a great start, but I'm more of a bullet point person. I want to get my final output in bullet point form.\n",
    "\n",
    "In order to do this I'm going to use custom promopts (like we did above) to instruct the model on what I want.\n",
    "\n",
    "The map_prompt is going to stay the same (just showing it for clarity), but I'll edit the combine_prompt."
   ]
  },
  {
   "cell_type": "code",
   "execution_count": 25,
   "id": "7442e889",
   "metadata": {},
   "outputs": [],
   "source": [
    "map_prompt = \"\"\"\n",
    "Write a concise summary of the following:\n",
    "\"{text}\"\n",
    "CONCISE SUMMARY:\n",
    "\"\"\"\n",
    "map_prompt_template = PromptTemplate(template=map_prompt, input_variables=[\"text\"])"
   ]
  },
  {
   "cell_type": "code",
   "execution_count": 26,
   "id": "6f42deb5",
   "metadata": {},
   "outputs": [],
   "source": [
    "combine_prompt = \"\"\"\n",
    "Write a concise summary of the following text delimited by triple backquotes.\n",
    "Return your response in bullet points which covers the key points of the text.\n",
    "```{text}```\n",
    "BULLET POINT SUMMARY:\n",
    "\"\"\"\n",
    "combine_prompt_template = PromptTemplate(template=combine_prompt, input_variables=[\"text\"])"
   ]
  },
  {
   "cell_type": "code",
   "execution_count": 27,
   "id": "e2051818",
   "metadata": {},
   "outputs": [],
   "source": [
    "summary_chain = load_summarize_chain(llm=llm,\n",
    "                                     chain_type='map_reduce',\n",
    "                                     map_prompt=map_prompt_template,\n",
    "                                     combine_prompt=combine_prompt_template,\n",
    "#                                      verbose=True\n",
    "                                    )"
   ]
  },
  {
   "cell_type": "code",
   "execution_count": 28,
   "id": "c986230f",
   "metadata": {},
   "outputs": [],
   "source": [
    "output = summary_chain.run(docs)"
   ]
  },
  {
   "cell_type": "code",
   "execution_count": 29,
   "id": "e90a8582",
   "metadata": {},
   "outputs": [
    {
     "name": "stdout",
     "output_type": "stream",
     "text": [
      "- Y Combinator suggests that the best startup ideas come from looking for problems, preferably ones that the founders have themselves.\n",
      "- Good ideas should appeal to a small number of people who need it urgently.\n",
      "- College students should use their college experience to prepare themselves for the future and build things with other students.\n",
      "- Look in areas of expertise, talk to people about their needs, and look for waves and gaps in the market.\n",
      "- Look for ideas that are unsexy or involve schleps, and make other people's problems your own.\n",
      "- Sam Altman points out that taking the time to come up with a good startup idea is a better strategy than coming up with a mediocre one.\n",
      "- Paul Buchheit suggests that trying to sell a bad idea can lead to better ideas.\n",
      "- Steve Wozniak's success is attributed to him solving his own problems.\n"
     ]
    }
   ],
   "source": [
    "print (output)"
   ]
  },
  {
   "cell_type": "markdown",
   "id": "59a6da87",
   "metadata": {},
   "source": [
    "## Level 4: Best Representation Vectors - Summarize an entire book\n",
    "\n",
    "In the above method we pass the entire document (all 9.5K tokens of it) to the LLM. But what if you have more tokens than that?\n",
    "\n",
    "What if you had a book you wanted to summarize? Let's load one up, we're going to load [Into Thin Air](https://www.amazon.com/Into-Thin-Air-Personal-Disaster/dp/0385494785) about the 1996 Everest Disaster"
   ]
  },
  {
   "cell_type": "code",
   "execution_count": 30,
   "id": "f6ed1dcb",
   "metadata": {},
   "outputs": [],
   "source": [
    "from langchain.document_loaders import PyPDFLoader\n",
    "\n",
    "# Load the book\n",
    "loader = PyPDFLoader(\"../data/IntoThinAirBook.pdf\")\n",
    "pages = loader.load()\n",
    "\n",
    "# Cut out the open and closing parts\n",
    "pages = pages[26:277]\n",
    "\n",
    "# Combine the pages, and replace the tabs with spaces\n",
    "text = \"\"\n",
    "\n",
    "for page in pages:\n",
    "    text += page.page_content\n",
    "    \n",
    "text = text.replace('\\t', ' ')"
   ]
  },
  {
   "cell_type": "code",
   "execution_count": 31,
   "id": "6db88712",
   "metadata": {},
   "outputs": [
    {
     "name": "stdout",
     "output_type": "stream",
     "text": [
      "This book has 139472 tokens in it\n"
     ]
    }
   ],
   "source": [
    "num_tokens = llm.get_num_tokens(text)\n",
    "\n",
    "print (f\"This book has {num_tokens} tokens in it\")"
   ]
  },
  {
   "cell_type": "markdown",
   "id": "4bedfe55",
   "metadata": {},
   "source": [
    "Wow, that's over 100K tokens, even [GPT 32K](https://help.openai.com/en/articles/7127966-what-is-the-difference-between-the-gpt-4-models) wouldn't be able to handle that in one go. At [0.03 per 1K prompt tokens](https://help.openai.com/en/articles/7127956-how-much-does-gpt-4-cost), this would cost us $4.17 just for the prompt alone.\n",
    "\n",
    "So how do we do this without going through all the tokens? Pick random chunks? Pick equally spaced chunks?\n",
    "\n",
    "I kicked off a [twitter thread](https://twitter.com/GregKamradt/status/1653060004226924544) with a proposed solution to see if I was off base. I'm calling it the Best Representation Vectors method (not sure if a name already exists for it).\n",
    "\n",
    "**Goal:** Chunk your book then get embeddings of the chunks. Pick a subset of chunks which represent a wholistic but diverse view of the book. Or another way, is there a way to pick the top 10 passages that describe the book the best?\n",
    "\n",
    "Once we have our chunks that represent the book then we can summarize those chunks and hopefully get a pretty good summary.\n",
    "\n",
    "Keep in mind there are tools that would likely do this for you, and with token limits increasing this won't be a problem for long. But if you want to do it from scratch this might help.\n",
    "\n",
    "This is most definitely not the optimal answer, but it's my take on it for now! If the [clustering](https://scikit-learn.org/stable/modules/clustering.html) experts wanna help improve it that would be awesome.\n",
    "\n",
    "**The BRV Steps:**\n",
    "1. Load your book into a single text file\n",
    "2. Split your text into large-ish chunks\n",
    "3. Embed your chunks to get vectors\n",
    "4. Cluster the vectors to see which are similar to each other and likely talk about the same parts of the book\n",
    "5. Pick embeddings that represent the cluster the most (method: closest to each cluster centroid)\n",
    "6. Summarize the documents that these embeddings represent\n",
    "\n",
    "Another way to phrase this process, \"Which ~10 documents from this book represent most of the meaning? I want to build a summary off those.\"\n",
    "\n",
    "Note: There will be a bit of information loss, but show me a summary of a whole book that doesn't have information loss ;)"
   ]
  },
  {
   "cell_type": "code",
   "execution_count": 33,
   "id": "e0e930b3",
   "metadata": {},
   "outputs": [],
   "source": [
    "# Loaders\n",
    "from langchain.schema import Document\n",
    "\n",
    "# Splitters\n",
    "from langchain.text_splitter import RecursiveCharacterTextSplitter\n",
    "\n",
    "# Model\n",
    "from langchain.chat_models import ChatOpenAI\n",
    "\n",
    "# Embedding Support\n",
    "from langchain.vectorstores import FAISS\n",
    "from langchain.embeddings import OpenAIEmbeddings\n",
    "\n",
    "# Summarizer we'll use for Map Reduce\n",
    "from langchain.chains.summarize import load_summarize_chain\n",
    "\n",
    "# Data Science\n",
    "import numpy as np\n",
    "from sklearn.cluster import KMeans"
   ]
  },
  {
   "cell_type": "markdown",
   "id": "0e5cdbd2",
   "metadata": {},
   "source": [
    "I'm going to initialize two models, gpt-3.5 and gpt4. I'll use gpt 3.5 for the first set of summaries to reduce cost and then gpt4 for the final pass which should hopefully increase the quality."
   ]
  },
  {
   "cell_type": "code",
   "execution_count": 34,
   "id": "0d3d233d",
   "metadata": {},
   "outputs": [],
   "source": [
    "text_splitter = RecursiveCharacterTextSplitter(separators=[\"\\n\\n\", \"\\n\", \"\\t\"], chunk_size=10000, chunk_overlap=3000)\n",
    "\n",
    "docs = text_splitter.create_documents([text])"
   ]
  },
  {
   "cell_type": "code",
   "execution_count": 35,
   "id": "c1c2c701",
   "metadata": {},
   "outputs": [
    {
     "name": "stdout",
     "output_type": "stream",
     "text": [
      "Now our book is split up into 78 documents\n"
     ]
    }
   ],
   "source": [
    "num_documents = len(docs)\n",
    "\n",
    "print (f\"Now our book is split up into {num_documents} documents\")"
   ]
  },
  {
   "cell_type": "markdown",
   "id": "8d413b2d",
   "metadata": {},
   "source": [
    "Let's get our embeddings of those 78 documents"
   ]
  },
  {
   "cell_type": "code",
   "execution_count": 37,
   "id": "898fc62c",
   "metadata": {},
   "outputs": [],
   "source": [
    "embeddings = OpenAIEmbeddings()\n",
    "\n",
    "vectors = embeddings.embed_documents([x.page_content for x in docs])"
   ]
  },
  {
   "cell_type": "markdown",
   "id": "726f6dee",
   "metadata": {},
   "source": [
    "Now let's cluster our embeddings. There are a ton of clustering algorithms you can chose from. Please try a few out to see what works best for you!"
   ]
  },
  {
   "cell_type": "code",
   "execution_count": 38,
   "id": "55c8dce0",
   "metadata": {},
   "outputs": [
    {
     "name": "stderr",
     "output_type": "stream",
     "text": [
      "c:\\Python311\\Lib\\site-packages\\sklearn\\cluster\\_kmeans.py:1412: FutureWarning: The default value of `n_init` will change from 10 to 'auto' in 1.4. Set the value of `n_init` explicitly to suppress the warning\n",
      "  super()._check_params_vs_input(X, default_n_init=10)\n"
     ]
    }
   ],
   "source": [
    "# Assuming 'embeddings' is a list or array of 1536-dimensional embeddings\n",
    "\n",
    "# Choose the number of clusters, this can be adjusted based on the book's content.\n",
    "# I played around and found ~10 was the best.\n",
    "# Usually if you have 10 passages from a book you can tell what it's about\n",
    "num_clusters = 11\n",
    "\n",
    "# Perform K-means clustering\n",
    "kmeans = KMeans(n_clusters=num_clusters, random_state=42).fit(vectors)"
   ]
  },
  {
   "cell_type": "markdown",
   "id": "891d82cd",
   "metadata": {},
   "source": [
    "Here are the clusters that were found. It's interesting to see the progression of clusters throughout the book. This is expected because as the plot changes you'd expect different clusters to emerge due to different semantic meaning"
   ]
  },
  {
   "cell_type": "code",
   "execution_count": 39,
   "id": "218dce05",
   "metadata": {},
   "outputs": [
    {
     "data": {
      "text/plain": [
       "array([ 4,  4,  4,  4,  4,  4,  7,  5,  5,  9,  9,  9,  9,  7,  7,  7,  7,\n",
       "        9,  9,  9,  5,  5,  5,  5,  9,  0,  0,  0,  5,  3,  3,  5,  3,  7,\n",
       "        0,  5,  3,  3,  3,  3,  3,  3,  3,  3,  4,  4,  2,  2,  3,  3,  2,\n",
       "        2,  2,  2,  1,  1,  1,  1,  1,  1,  3,  2,  2,  9,  9, 10, 10, 10,\n",
       "       10, 10,  8,  8,  8,  6,  6,  8,  5,  8])"
      ]
     },
     "execution_count": 39,
     "metadata": {},
     "output_type": "execute_result"
    }
   ],
   "source": [
    "kmeans.labels_"
   ]
  },
  {
   "cell_type": "markdown",
   "id": "1d9ccd8b",
   "metadata": {},
   "source": [
    "This is sweet, but whenever you have a clustering exercise, it's hard *not* to graph them. Make sure you add colors.\n",
    "\n",
    "We also need to do dimensionality reduction to reduce the vectors from 1536 dimensions to 2 (this is sloppy data science but we are working towards the 80% solution)"
   ]
  },
  {
   "cell_type": "code",
   "execution_count": 47,
   "id": "2c3451b6",
   "metadata": {},
   "outputs": [
    {
     "data": {
      "text/plain": [
       "1536"
      ]
     },
     "execution_count": 47,
     "metadata": {},
     "output_type": "execute_result"
    }
   ],
   "source": [
    "len(vectors[0])"
   ]
  },
  {
   "cell_type": "code",
   "execution_count": 48,
   "id": "95da2509",
   "metadata": {},
   "outputs": [
    {
     "data": {
      "image/png": "[encoded data removed]",
      "text/plain": [
       "<Figure size 640x480 with 1 Axes>"
      ]
     },
     "metadata": {},
     "output_type": "display_data"
    }
   ],
   "source": [
    "from sklearn.manifold import TSNE\n",
    "import matplotlib.pyplot as plt\n",
    "import numpy as np\n",
    "\n",
    "# Taking out the warnings\n",
    "import warnings\n",
    "from warnings import simplefilter\n",
    "\n",
    "# Filter out FutureWarnings\n",
    "simplefilter(action='ignore', category=FutureWarning)\n",
    "\n",
    "# Perform t-SNE and reduce to 2 dimensions\n",
    "tsne = TSNE(n_components=2, random_state=42)\n",
    "reduced_data_tsne = tsne.fit_transform(np.array(vectors))  # converted vectors to np arrays\n",
    "\n",
    "# Plot the reduced data\n",
    "plt.scatter(reduced_data_tsne[:, 0], reduced_data_tsne[:, 1], c=kmeans.labels_)\n",
    "plt.xlabel('Dimension 1')\n",
    "plt.ylabel('Dimension 2')\n",
    "plt.title('Book Embeddings Clustered')\n",
    "plt.show()"
   ]
  },
  {
   "cell_type": "markdown",
   "id": "6aa4314b",
   "metadata": {},
   "source": [
    "Awesome, not perfect, but pretty good directionally. Now we need to get the vectors which are closest to the cluster centroids (the center).\n",
    "\n",
    "The function below is a quick way to do that (w/ help from ChatGPT)"
   ]
  },
  {
   "cell_type": "code",
   "execution_count": 49,
   "id": "55f2f664",
   "metadata": {},
   "outputs": [],
   "source": [
    "# Find the closest embeddings to the centroids\n",
    "\n",
    "# Create an empty list that will hold your closest points\n",
    "closest_indices = []\n",
    "\n",
    "# Loop through the number of clusters you have\n",
    "for i in range(num_clusters):\n",
    "    \n",
    "    # Get the list of distances from that particular cluster center\n",
    "    distances = np.linalg.norm(vectors - kmeans.cluster_centers_[i], axis=1)\n",
    "    \n",
    "    # Find the list position of the closest one (using argmin to find the smallest distance)\n",
    "    closest_index = np.argmin(distances)\n",
    "    \n",
    "    # Append that position to your closest indices list\n",
    "    closest_indices.append(closest_index)"
   ]
  },
  {
   "cell_type": "markdown",
   "id": "f5a44596",
   "metadata": {},
   "source": [
    "Now sort them (so the chunks are processed in order)"
   ]
  },
  {
   "cell_type": "code",
   "execution_count": 51,
   "id": "679297ac",
   "metadata": {},
   "outputs": [
    {
     "data": {
      "text/plain": [
       "[0, 12, 15, 22, 26, 41, 52, 56, 65, 71, 74]"
      ]
     },
     "execution_count": 51,
     "metadata": {},
     "output_type": "execute_result"
    }
   ],
   "source": [
    "selected_indices = sorted(closest_indices)\n",
    "selected_indices"
   ]
  },
  {
   "cell_type": "markdown",
   "id": "171c2b42",
   "metadata": {},
   "source": [
    "It's intersting to see which chunks pop up at most descriptive. How does your distribution look?\n",
    "\n",
    "Let's create our custom prompts. I'm going to use gpt4 (which has a bigger token limit) for the combine step so I'm asking for long summaries in the map step to reduce the information loss."
   ]
  },
  {
   "cell_type": "code",
   "execution_count": 52,
   "id": "83bc55d8",
   "metadata": {},
   "outputs": [],
   "source": [
    "llm3 = ChatOpenAI(temperature=0,\n",
    "                 max_tokens=1000,\n",
    "                 model='gpt-3.5-turbo'\n",
    "                )"
   ]
  },
  {
   "cell_type": "code",
   "execution_count": 53,
   "id": "5552e6d3",
   "metadata": {},
   "outputs": [],
   "source": [
    "map_prompt = \"\"\"\n",
    "You will be given a single passage of a book. This section will be enclosed in triple backticks (```)\n",
    "Your goal is to give a summary of this section so that a reader will have a full understanding of what happened.\n",
    "Your response should be at least three paragraphs and fully encompass what was said in the passage.\n",
    "\n",
    "```{text}```\n",
    "FULL SUMMARY:\n",
    "\"\"\"\n",
    "map_prompt_template = PromptTemplate(template=map_prompt, input_variables=[\"text\"])"
   ]
  },
  {
   "cell_type": "markdown",
   "id": "b568b94a",
   "metadata": {},
   "source": [
    "I kept getting a timeout errors so I'm actually going to do this map reduce manually"
   ]
  },
  {
   "cell_type": "code",
   "execution_count": 54,
   "id": "bb5eb0d9",
   "metadata": {},
   "outputs": [],
   "source": [
    "map_chain = load_summarize_chain(llm=llm3,\n",
    "                             chain_type=\"stuff\",\n",
    "                             prompt=map_prompt_template)"
   ]
  },
  {
   "cell_type": "markdown",
   "id": "e4e1ec38",
   "metadata": {},
   "source": [
    "Then go get your docs which the top vectors represented."
   ]
  },
  {
   "cell_type": "code",
   "execution_count": 55,
   "id": "781a686c",
   "metadata": {},
   "outputs": [],
   "source": [
    "selected_docs = [docs[doc] for doc in selected_indices]"
   ]
  },
  {
   "cell_type": "code",
   "execution_count": 59,
   "id": "47519383",
   "metadata": {},
   "outputs": [
    {
     "name": "stdout",
     "output_type": "stream",
     "text": [
      "0: 2677\n",
      "1: 2791\n",
      "2: 2731\n",
      "3: 2708\n",
      "4: 2790\n",
      "5: 2784\n",
      "6: 2961\n",
      "7: 2974\n",
      "8: 2727\n",
      "9: 2728\n",
      "10: 2666\n"
     ]
    }
   ],
   "source": [
    "\n",
    "for i, doc in enumerate(selected_docs):\n",
    "    num_tokenn = llm.get_num_tokens(map_prompt_template.format(text=doc))\n",
    "    print(f'{i}: {num_tokenn}')"
   ]
  },
  {
   "cell_type": "markdown",
   "id": "eca5fc42",
   "metadata": {},
   "source": [
    "Let's loop through our selected docs and get a good summary for each chunk. We'll store the summary in a list."
   ]
  },
  {
   "cell_type": "code",
   "execution_count": 60,
   "id": "7e2220ab",
   "metadata": {},
   "outputs": [
    {
     "name": "stdout",
     "output_type": "stream",
     "text": [
      "Summary #0 (chunk #0) - Preview: In this passage, the author describes their experience reaching the summit of Mount Everest on May 10, 1996. They explain that despite the physical and mental challenges they faced, they were not able to fully appreciate the moment due to exhaustion  \n",
      "\n",
      "Summary #1 (chunk #12) - Preview: In this passage, the author describes the dangerous journey of Tenzing, a climber who fell into a crevasse on the glacier. Due to the high altitude, it was too risky to evacuate him by helicopter, so a massive effort was required to carry him down to \n",
      "\n",
      "Summary #2 (chunk #15) - Preview: This passage provides insight into the character of Scott Fischer, a climber who is seeking recognition and respect for his accomplishments. He has gained some recognition through his ascent of Everest without supplemental oxygen and his efforts in c \n",
      "\n",
      "Summary #3 (chunk #22) - Preview: This passage provides a glimpse into the different teams and climbers attempting to summit Mount Everest. The author describes the challenges and logistics involved in arranging for permits, oxygen, tentage, provisions, Sherpa support, and other deta \n",
      "\n",
      "Summary #4 (chunk #26) - Preview: In this passage, the author recounts the events surrounding the illness and rescue of a Sherpa named Ngawang on Mount Everest. Ngawang had been feeling weak and short of breath for several days but ignored instructions to descend to Base Camp and ins \n",
      "\n",
      "Summary #5 (chunk #41) - Preview: In this passage, the author describes their experience waiting on a ledge for the rest of their climbing group to catch up. They are frustrated by the wasted time and the cold weather. They observe a peculiar sight of a Sherpa named Lopsang Jangbu to \n",
      "\n",
      "Summary #6 (chunk #52) - Preview: In this passage, the group of climbers, including Anatoli Boukreev, failed to return to Camp Four due to a storm that had intensified to hurricane intensity. Boukreev realized they were in trouble and attempted to bring oxygen to them, but he had no  \n",
      "\n",
      "Summary #7 (chunk #56) - Preview: In this passage, the storm on Everest continues to worsen, with thunder and lightning striking close to the climbers. Fischer and Lopsang encounter Makalu Gau and his Sherpas, but Gau is too weak to continue and is left behind. Lopsang stays with Fis \n",
      "\n",
      "Summary #8 (chunk #65) - Preview: In this passage, the narrator reflects on the aftermath of the tragic events on Mount Everest. They attend a memorial service for the climbers who died and feel guilty for having survived. They then leave Base Camp and are evacuated by helicopter alo \n",
      "\n",
      "Summary #9 (chunk #71) - Preview: In this passage, the author discusses the book \"The Climb\" by Anatoli Boukreev, which serves as a defense of his actions on Mount Everest during the 1996 disaster. The author explains that Boukreev strongly disagreed with how he was portrayed in the  \n",
      "\n",
      "Summary #10 (chunk #74) - Preview: This passage addresses the controversy surrounding Anatoli Boukreev's actions during the 1996 Everest disaster. The author argues against claims made by Jon Krakauer and Tim DeWalt that Boukreev had a plan to descend from the summit ahead of his clie \n",
      "\n"
     ]
    }
   ],
   "source": [
    "# Make an empty list to hold your summaries\n",
    "summary_list = []\n",
    "\n",
    "# Loop through a range of the lenght of your selected docs\n",
    "for i, doc in enumerate(selected_docs):\n",
    "    \n",
    "    # Go get a summary of the chunk\n",
    "    chunk_summary = map_chain.run([doc])\n",
    "    \n",
    "    # Append that summary to your list\n",
    "    summary_list.append(chunk_summary)\n",
    "    \n",
    "    print (f\"Summary #{i} (chunk #{selected_indices[i]}) - Preview: {chunk_summary[:250]} \\n\")"
   ]
  },
  {
   "cell_type": "markdown",
   "id": "7fae1a72",
   "metadata": {},
   "source": [
    "Great, now that we have our list of summaries, let's get a summary of the summaries"
   ]
  },
  {
   "cell_type": "code",
   "execution_count": 71,
   "id": "4083431d",
   "metadata": {},
   "outputs": [
    {
     "name": "stdout",
     "output_type": "stream",
     "text": [
      "Your total summary has 3688 tokens\n"
     ]
    }
   ],
   "source": [
    "summaries = \"\\n\".join(summary_list)\n",
    "\n",
    "# Convert it back to a document\n",
    "summaries = Document(page_content=summaries)\n",
    "\n",
    "print (f\"Your total summary has {llm.get_num_tokens(summaries.page_content)} tokens\")"
   ]
  },
  {
   "cell_type": "code",
   "execution_count": 77,
   "id": "1d2e71c5",
   "metadata": {},
   "outputs": [],
   "source": [
    "llm4 = ChatOpenAI(temperature=0,\n",
    "                #  max_tokens=3000,\n",
    "                #  model='gpt-4',\n",
    "                model='gpt-3.5-turbo',\n",
    "                request_timeout=120\n",
    "                )"
   ]
  },
  {
   "cell_type": "code",
   "execution_count": 78,
   "id": "b98e7321",
   "metadata": {},
   "outputs": [],
   "source": [
    "combine_prompt = \"\"\"\n",
    "You will be given a series of summaries from a book. The summaries will be enclosed in triple backticks (```)\n",
    "Your goal is to give a verbose summary of what happened in the story.\n",
    "The reader should be able to grasp what happened in the book.\n",
    "\n",
    "```{text}```\n",
    "VERBOSE SUMMARY:\n",
    "\"\"\"\n",
    "combine_prompt_template = PromptTemplate(template=combine_prompt, input_variables=[\"text\"])"
   ]
  },
  {
   "cell_type": "code",
   "execution_count": 79,
   "id": "2930c26e",
   "metadata": {},
   "outputs": [],
   "source": [
    "reduce_chain = load_summarize_chain(llm=llm4,\n",
    "                             chain_type=\"stuff\",\n",
    "                             prompt=combine_prompt_template,\n",
    "#                              verbose=True # Set this to true if you want to see the inner workings\n",
    "                                   )"
   ]
  },
  {
   "cell_type": "markdown",
   "id": "e9958142",
   "metadata": {},
   "source": [
    "Run! Note this will take a while"
   ]
  },
  {
   "cell_type": "code",
   "execution_count": 80,
   "id": "c6eda913",
   "metadata": {},
   "outputs": [],
   "source": [
    "output = reduce_chain.run([summaries])"
   ]
  },
  {
   "cell_type": "code",
   "execution_count": 56,
   "id": "915628a1",
   "metadata": {},
   "outputs": [
    {
     "name": "stdout",
     "output_type": "stream",
     "text": [
      "In this story, the author recounts their experience as part of a New Zealand-based team attempting to summit Mount Everest on May 10, 1996. Despite months of anticipation, the author finds themselves unable to fully appreciate the achievement due to extreme exhaustion, lack of sleep, and the effects of high altitude. After a brief moment at the summit, the author begins their descent, encountering a traffic jam of climbers from multiple expeditions. The author's oxygen tank runs out, forcing them to navigate dangerous terrain without supplemental oxygen. Unbeknownst to the climbers, a disaster is about to unfold, resulting in the deaths of eight climbers, including two of the author's teammates.\n",
      "\n",
      "The story also highlights the challenges and dangers of high-altitude mountaineering, as well as the importance of teamwork and respect for local cultures and customs. The author and their team face various obstacles, including altitude sickness, treacherous terrain, and the reliance on Sherpas, who work incredibly hard for little pay. The author emphasizes the need to show gratitude and respect to the Sherpas, who are essential to the success of the climbers.\n",
      "\n",
      "Throughout the story, the author describes various events and challenges faced by the climbers, including medical emergencies, the importance of proper acclimatization, and the difficulties of providing medical care in a remote, high-altitude environment. The author also discusses the cultural differences between Western climbers and Sherpas, who are often reluctant to acknowledge physical infirmities due to an element of machismo in their culture.\n",
      "\n",
      "As the climbers continue their ascent, they face physical and mental challenges, as well as the individualistic nature of the climb. The author emphasizes the importance of timing and weather conditions in determining the success of a summit assault. The story also touches on the controversy surrounding the author's book, \"Into Thin Air,\" and its portrayal of Anatoli Boukreev, a professional climbing guide involved in the 1996 Everest disaster.\n",
      "\n",
      "In the aftermath of the tragedy, the author reflects on the emotional impact, including survivor's guilt and the grief of the families and loved ones of the deceased. The author also considers the role of hubris in the disaster and questions their own actions during the storm. The story highlights the complex emotions and difficult questions that arise in the wake of such a devastating event, as well as the contentious nature of reporting on a tragedy and the importance of accuracy and thorough research in journalism.\n"
     ]
    }
   ],
   "source": [
    "print (output)"
   ]
  },
  {
   "cell_type": "markdown",
   "id": "27a1db73",
   "metadata": {},
   "source": [
    "Wow that was a long process, but you get the gist, hopefully we'll see some library abstractions in the coming months that do this automatically for us! Let me know what you think on [Twitter](https://twitter.com/GregKamradt)"
   ]
  },
  {
   "cell_type": "markdown",
   "id": "5b4ae429",
   "metadata": {},
   "source": [
    "## Level 5: Agents - Summarize an unknown amount of text\n",
    "\n",
    "What if you have an unknown amount of text you need to summarize? This may be a verticalize use case (like law or medical) where more research is required as you uncover the first pieces of information.\n",
    "\n",
    "We're going to use agents below, this is still a very actively developed area and should be handled with care. Future agents will be able to handle a lot more complicated tasks."
   ]
  },
  {
   "cell_type": "code",
   "execution_count": 99,
   "id": "fd384fd2",
   "metadata": {},
   "outputs": [],
   "source": [
    "from langchain import OpenAI\n",
    "from langchain.chat_models import ChatOpenAI\n",
    "from langchain.agents import initialize_agent, Tool\n",
    "from langchain.utilities import WikipediaAPIWrapper\n",
    "\n",
    "llm = ChatOpenAI(temperature=1, model='gpt-3.5-turbo') #model_name='gpt-4') # chaptgpt4 -> works with temperature = 0, not with 3.5\n"
   ]
  },
  {
   "cell_type": "markdown",
   "id": "6456e70a",
   "metadata": {},
   "source": [
    "We're going to use the Wiki search tool and research multiple topics"
   ]
  },
  {
   "cell_type": "code",
   "execution_count": 100,
   "id": "6b93660c",
   "metadata": {},
   "outputs": [],
   "source": [
    "wikipedia = WikipediaAPIWrapper()"
   ]
  },
  {
   "cell_type": "markdown",
   "id": "b7d26c52",
   "metadata": {},
   "source": [
    "Let's define our toolkit, in this case it's just one tool"
   ]
  },
  {
   "cell_type": "code",
   "execution_count": 101,
   "id": "aaf60c86",
   "metadata": {},
   "outputs": [],
   "source": [
    "tools = [\n",
    "    Tool(\n",
    "        name=\"Wikipedia\",\n",
    "        func=wikipedia.run,\n",
    "        description=\"Useful for when you need to get information from wikipedia about a single topic\"\n",
    "    ),\n",
    "]"
   ]
  },
  {
   "cell_type": "markdown",
   "id": "9d0f07a5",
   "metadata": {},
   "source": [
    "Init our agent"
   ]
  },
  {
   "cell_type": "code",
   "execution_count": 102,
   "id": "baff1fce",
   "metadata": {},
   "outputs": [],
   "source": [
    "agent_executor = initialize_agent(tools, llm, agent='zero-shot-react-description', verbose=True)"
   ]
  },
  {
   "cell_type": "markdown",
   "id": "06d17afb",
   "metadata": {},
   "source": [
    "Then let's ask a question that will need multiple documents"
   ]
  },
  {
   "cell_type": "code",
   "execution_count": 103,
   "id": "dbd6e437",
   "metadata": {
    "scrolled": false
   },
   "outputs": [
    {
     "name": "stdout",
     "output_type": "stream",
     "text": [
      "\n",
      "\n",
      "\u001b[1m> Entering new AgentExecutor chain...\u001b[0m\n",
      "\u001b[32;1m\u001b[1;3mI should first search for a quick summary of Napoleon Bonaparte on Wikipedia. Then, I can search for Serena Williams and compare the information to find any commonalities between the two.\n",
      "\n",
      "Action: Wikipedia\n",
      "Action Input: \"Napoleon Bonaparte\"\u001b[0m\n",
      "Observation: \u001b[36;1m\u001b[1;3mPage: Napoleon\n",
      "Summary: Napoleon Bonaparte (born Napoleone Buonaparte; 15 August 1769 – 5 May 1821), later known by his regnal name Napoleon I, was a French military commander and political leader who rose to prominence during the French Revolution and led successful campaigns during the Revolutionary Wars. He was the leader of the French Republic as First Consul from 1799 to 1804, then of the French Empire as Emperor of the French from 1804 until 1814 and again in 1815. Napoleon's political and cultural legacy endures as a celebrated and controversial leader. He initiated many liberal reforms that have persisted, and is considered one of the greatest military commanders in history. His campaigns are still studied at military academies worldwide. Between three and six million civilians and soldiers died in the Napoleonic Wars.Napoleon was born on the island of Corsica to a native family descending from Italian nobility. He supported the French Revolution in 1789 while serving in the French army, and tried to spread its ideals to his native Corsica. He rose rapidly after he saved the governing French Directory by firing on royalist insurgents. In 1796, he began a military campaign against the Austrians and their Italian allies, scoring decisive victories and became a national hero. Two years later, he led a military expedition to Egypt that served as a springboard to political power. He engineered a coup in November 1799 and became First Consul of the Republic. In 1804, to consolidate and expand his power, he crowned himself Emperor of the French.\n",
      "Differences with the United Kingdom meant France faced the War of the Third Coalition by 1805. Napoleon shattered this coalition with victories in the Ulm campaign and at the Battle of Austerlitz, which led to the dissolution of the Holy Roman Empire. In 1806, the Fourth Coalition took up arms against him. Napoleon defeated Prussia at the battles of Jena and Auerstedt, marched the Grande Armée into Eastern Europe, and defeated the Russians in June 1807 at Friedland, forcing the defeated nations of the Fourth Coalition to accept the Treaties of Tilsit. Two years later, the Austrians challenged the French again during the War of the Fifth Coalition, but Napoleon solidified his grip over Europe after triumphing at the Battle of Wagram.\n",
      "Hoping to extend the Continental System, his embargo against Britain, Napoleon invaded the Iberian Peninsula and declared his brother Joseph the King of Spain in 1808. The Spanish and the Portuguese revolted in the Peninsular War aided by a British army, culminating in defeat for Napoleon's marshals. Napoleon launched an invasion of Russia in the summer of 1812. The resulting campaign witnessed the catastrophic retreat of Napoleon's Grande Armée. In 1813, Prussia and Austria joined Russian forces in a Sixth Coalition against France, resulting in a large coalition army defeating Napoleon at the Battle of Leipzig. The coalition invaded France and captured Paris, forcing Napoleon to abdicate in April 1814. He was exiled to the island of Elba, between Corsica and Italy. In France, the Bourbons were restored to power.\n",
      "Napoleon escaped in February 1815 and took control of France. The Allies responded by forming a Seventh Coalition, which defeated Napoleon at the Battle of Waterloo in June 1815. The British exiled him to the remote island of Saint Helena in the Atlantic, where he died in 1821 at the age of 51.\n",
      "Napoleon had an extensive impact on the modern world, bringing liberal reforms to the lands he conquered, especially the regions of the Low Countries, Switzerland, and parts of modern Italy and Germany. He implemented many liberal policies in France and Western Europe.\n",
      "\n",
      "Page: Napoleon III\n",
      "Summary: Napoleon III (born Charles Louis Napoléon Bonaparte; 20 April 1808 – 9 January 1873) was the first President of France (as Louis-Napoléon Bonaparte) from 1848 to 1852, and the last monarch of France as Emperor of the French from 1852 until he was deposed in absent\u001b[0m\n",
      "Thought:\u001b[32;1m\u001b[1;3mI should now search for Serena Williams on Wikipedia to find information about her. Then, I can compare the information to find any commonalities between Serena Williams and Napoleon Bonaparte.\n",
      "\n",
      "Action: Wikipedia\n",
      "Action Input: \"Serena Williams\"\u001b[0m\n",
      "Observation: \u001b[36;1m\u001b[1;3mPage: Serena Williams\n",
      "Summary: Serena Jameka Williams (born September 26, 1981) is an American former professional tennis player. Widely regarded as one of the greatest tennis players of all time, she was ranked world No. 1 in singles by the Women's Tennis Association (WTA) for 319 weeks, including a joint-record 186 consecutive weeks, and finished as the year-end No. 1 five times. She won 23 Grand Slam women's singles titles, the most in the Open Era, and the second-most of all time. She is the only player to accomplish a career Golden Slam in both singles and doubles.Along with her older sister Venus, Serena Williams was coached by her parents Oracene Price and Richard Williams. Turning professional in 1995, she won her first major singles title at the 1999 US Open. From the 2002 French Open to the 2003 Australian Open, she was dominant, winning all four major singles titles (each time over Venus in the final) to achieve a non-calendar year Grand Slam and the career Grand Slam, known as the 'Serena Slam'. The next few years saw her claim two more singles majors, but suffer from injury and decline in form. Beginning in 2007, however, she gradually returned to form despite continued injuries, retaking the world No. 1 singles ranking. Beginning at the 2012 Wimbledon Championships, Williams returned to dominance, claiming Olympic gold (completing the Career Golden Slam in singles) and winning eight out of thirteen singles majors, including all four in a row from 2014–15 to achieve a second \"Serena Slam\". At the 2017 Australian Open, she won her 23rd major singles title, surpassing Steffi Graf's Open Era record. She then took a break from professional tennis after becoming pregnant and reached four major finals upon returning to play. In August 2022, Williams announced her impending \"evolution\" away from professional tennis and played what was expected to be her final match at the 2022 US Open.Williams also won 14 major women's doubles titles, all with her sister Venus, and the pair was unbeaten in major doubles finals (the best unbeaten record in major finals in any discipline of the sport). The pair achieved a non-calendar year Grand Slam between the 2009 Wimbledon Championships and the 2010 French Open, which granted the sisters the doubles world No. 1 ranking. Serena won four Olympic gold medals, three in women's doubles—an all-time joint record in tennis, shared with her sister. The duo are the only women in the Open Era to win Olympic gold in both singles and doubles. She also won two major mixed doubles titles, both in 1998. She is the only singles player, male or female, to complete three Career Golden Slams – one in women's singles and two in same-sex doubles.The arrival of the Williams sisters has been credited with ushering in a new era of power and athleticism on the women's professional tennis tour. Serena holds a combined 39 major titles: 23 in singles, 14 in women's doubles, and two in mixed doubles. She is joint-third on the all-time list and second in the Open Era for total major titles. She is the most recent woman to simultaneously hold all four major singles titles (2002–03 and 2014–15), and the most recent woman to win the Surface Slam (major titles on hard, clay and grass courts in the same calendar year), doing so in 2015. She is also, with Venus, the most recent player to have simultaneously held all four major women's doubles titles (2009–10).\n",
      "Williams was the world's highest paid woman athlete in 2016, earning almost $29 million. She repeated this feat in 2017 when she was the only woman on Forbes' list of the 100 highest-paid athletes, with $27 million in prize money and endorsements. She won the Laureus Sportswoman of the Year award a record four times (2003, 2010, 2016, 2018), and in December 2015 was named Sportsperson of the Year by Sports Illustrated magazine. She is the highest-earning woman athlete of all time.\n",
      "\n",
      "Page: Williams sisters\n",
      "Summary: The Williams sisters are two professional American te\u001b[0m\n",
      "Thought:\u001b[32;1m\u001b[1;3mBased on the summaries from Wikipedia, Napoleon Bonaparte was a French military commander and political leader who rose to prominence during the French Revolution. He led successful campaigns and became the leader of the French Empire as Emperor of the French. He implemented liberal reforms and is considered one of the greatest military commanders in history. On the other hand, Serena Williams is an American former professional tennis player who is widely regarded as one of the greatest tennis players of all time. She was ranked world No. 1 in singles for 319 weeks and won 23 Grand Slam women's singles titles. Both Napoleon Bonaparte and Serena Williams achieved great success in their respective fields and had a significant impact on their domains.\n",
      "\n",
      "Final Answer: The commonality between Napoleon Bonaparte and Serena Williams is that they both achieved great success in their respective fields and had a significant impact in history.\u001b[0m\n",
      "\n",
      "\u001b[1m> Finished chain.\u001b[0m\n"
     ]
    }
   ],
   "source": [
    "output = agent_executor.run(\"Can you please provide a quick summary of Napoleon Bonaparte? \\\n",
    "                          Then do a separate search and tell me what the commonalities are with Serena Williams\")"
   ]
  },
  {
   "cell_type": "code",
   "execution_count": 104,
   "id": "4e5aeeee",
   "metadata": {},
   "outputs": [
    {
     "name": "stdout",
     "output_type": "stream",
     "text": [
      "The commonality between Napoleon Bonaparte and Serena Williams is that they both achieved great success in their respective fields and had a significant impact in history.\n"
     ]
    }
   ],
   "source": [
    "print (output)"
   ]
  },
  {
   "cell_type": "markdown",
   "id": "f48735b9",
   "metadata": {},
   "source": [
    "Awesome, good luck summarizing!"
   ]
  },
  {
   "cell_type": "code",
   "execution_count": null,
   "id": "6b87ac86",
   "metadata": {},
   "outputs": [],
   "source": []
  },
  {
   "cell_type": "code",
   "execution_count": null,
   "id": "850699b5",
   "metadata": {},
   "outputs": [],
   "source": []
  },
  {
   "cell_type": "code",
   "execution_count": null,
   "id": "39ccd5d6",
   "metadata": {},
   "outputs": [],
   "source": []
  },
  {
   "cell_type": "code",
   "execution_count": null,
   "id": "3ae94d85",
   "metadata": {},
   "outputs": [],
   "source": []
  },
  {
   "cell_type": "code",
   "execution_count": null,
   "id": "b0a27f63",
   "metadata": {},
   "outputs": [],
   "source": []
  },
  {
   "cell_type": "code",
   "execution_count": null,
   "id": "8bc1875e",
   "metadata": {},
   "outputs": [],
   "source": []
  }
 ],
 "metadata": {
  "kernelspec": {
   "display_name": "Python 3 (ipykernel)",
   "language": "python",
   "name": "python3"
  },
  "language_info": {
   "codemirror_mode": {
    "name": "ipython",
    "version": 3
   },
   "file_extension": ".py",
   "mimetype": "text/x-python",
   "name": "python",
   "nbconvert_exporter": "python",
   "pygments_lexer": "ipython3",
   "version": "3.11.4"
  }
 },
 "nbformat": 4,
 "nbformat_minor": 5
}
