{
 "cells": [
  {
   "cell_type": "code",
   "execution_count": 1,
   "id": "3afa6512",
   "metadata": {},
   "outputs": [],
   "source": [
    "import os\n",
    "os.environ['OPENAI_API_KEY']=open('./../../keys.txt','r').read()\n",
    "os.environ['SERPAPI_API_KEY']=open('./../../keys2.txt','r').read()\n",
    "os.environ['GOOGLE_CSE_ID']=open('./../../keys3.txt','r').read()\n",
    "os.environ['GOOGLE_API_KEY']=open('./../../keys4.txt','r').read()\n",
    "os.environ['WOLFRAM_ALPHA_APPID'] = open('./../../keys5.txt','r').read()\n",
    "# google drive laoder - credentials_path=\"./credentials.json\""
   ]
  },
  {
   "cell_type": "code",
   "execution_count": 2,
   "id": "2804f2bf",
   "metadata": {},
   "outputs": [],
   "source": [
    "from langchain.document_loaders import GoogleDriveLoader\n",
    "import os"
   ]
  },
  {
   "cell_type": "code",
   "execution_count": null,
   "id": "2b0580df",
   "metadata": {},
   "outputs": [],
   "source": [
    "# loader = GoogleDriveLoader(document_ids=[\"1BT5apJMTUvG9_59-ceHbuZXVTJKeyyknQsz9ZNIEwQ8\"],\n",
    "#                           credentials_path=\"../../desktop_credetnaisl.json\")\n",
    "\n",
    "\"C:\\Users\\User\\Desktop\\client_secret_1004426846815-uha7sv4lietdneoj4dp4f9o837dchhnv.apps.googleusercontent.com.json\""
   ]
  },
  {
   "cell_type": "code",
   "execution_count": 3,
   "id": "3f988238",
   "metadata": {},
   "outputs": [],
   "source": [
    "loader = GoogleDriveLoader(document_ids=[\"1forIYOb_rRn4ug2UDaewQEzSYlHufSFFd01s5F4ZjqA\"],\n",
    "                           credentials_path=\"./credentials.json\",)  # lakbay raffle\n",
    "# and need to create .credentials folder in c/users/user\n",
    "docs = loader.load()"
   ]
  },
  {
   "cell_type": "code",
   "execution_count": null,
   "id": "1cb4ae65",
   "metadata": {},
   "outputs": [],
   "source": [
    "# %set_env OPENAI_API_KEY = ..."
   ]
  },
  {
   "cell_type": "markdown",
   "id": "6419b536",
   "metadata": {},
   "source": [
    "### Summarizing"
   ]
  },
  {
   "cell_type": "code",
   "execution_count": 4,
   "id": "bfa4d948",
   "metadata": {},
   "outputs": [],
   "source": [
    "from langchain.llms import OpenAI\n",
    "from langchain.chains.summarize import load_summarize_chain"
   ]
  },
  {
   "cell_type": "code",
   "execution_count": 5,
   "id": "1c7a6d81",
   "metadata": {},
   "outputs": [],
   "source": [
    "llm = OpenAI(temperature=0)"
   ]
  },
  {
   "cell_type": "code",
   "execution_count": 7,
   "id": "d9220c03",
   "metadata": {},
   "outputs": [
    {
     "name": "stdout",
     "output_type": "stream",
     "text": [
      "\n",
      "\n",
      "\u001b[1m> Entering new MapReduceDocumentsChain chain...\u001b[0m\n",
      "Prompt after formatting:\n",
      "\u001b[32;1m\u001b[1;3mWrite a concise summary of the following:\n",
      "\n",
      "\n",
      "\"﻿GRAND RAFFLE MECHANICS\n",
      "\n",
      "\n",
      "Who can join?\n",
      "\n",
      "\n",
      "* All Globe Group employees participating at Lakbay: Travel Expo 2022 (on-site and online)\n",
      "\n",
      "\n",
      "How to join?\n",
      "\n",
      "\n",
      "* Choose ONE WAY to participate only: \n",
      "   * Live at B1, The Globe Tower\n",
      "   * Online via the event website\n",
      "*Stamps earned on-site and online cannot be combined.\n",
      "\n",
      "\n",
      "For Live Participants \n",
      "\n",
      "\n",
      "* Go to the registration booth at B1, The Globe Tower located near the elevators to register and get your Lakbay Travel Quest Pass\n",
      "* Complete 10 stamps by visiting the different participating exhibitors\n",
      "   * Premium Booths at Alcove (2 stamps)\n",
      "   * Deluxe and Standard Booths         (1 stamp)\n",
      "* Once you have completed all 10 stamps, proceed to the registration booth for checking and to submit your raffle entry in the drop box\n",
      "*One quest pass per employee only\n",
      "*Note that the raffle ticket is attached to the Travel Quest Pass\n",
      "\n",
      "\n",
      "For Online Participants \n",
      "\n",
      "\n",
      "* Visit the Lakbay: Travel Expo 2022 website\n",
      "* Complete 10 virtual stamps by sending an inquiry to the participating exhibitors via Google Form. Each inquiry will earn you 1-2 stamps.\n",
      "   * Premium Exhibitor (2 stamps)\n",
      "   * Deluxe Exhibitor and Standard Exhibitor (1 stamp)\n",
      "* Complete all 10 stamps within the duration of the Lakbay: Travel Expo 2022 (November 28 to December 2) \n",
      "* The event organizers will monitor the total number of stamps you earned\n",
      "* Once you have completed the 10 stamps, you will receive an email notifying you that you’re part of the grand raffle.\"\n",
      "\n",
      "\n",
      "CONCISE SUMMARY:\u001b[0m\n",
      "\n",
      "\n",
      "\u001b[1m> Entering new StuffDocumentsChain chain...\u001b[0m\n",
      "\n",
      "\n",
      "\u001b[1m> Entering new LLMChain chain...\u001b[0m\n",
      "Prompt after formatting:\n",
      "\u001b[32;1m\u001b[1;3mWrite a concise summary of the following:\n",
      "\n",
      "\n",
      "\" \n",
      "The Globe Group is hosting a grand raffle for employees participating in the Lakbay: Travel Expo 2022. Employees can join either on-site or online. On-site participants must register at the registration booth and collect 10 stamps from participating exhibitors. Online participants must send inquiries to exhibitors via Google Form to earn 1-2 stamps. Once 10 stamps are earned, participants will be entered into the grand raffle.\"\n",
      "\n",
      "\n",
      "CONCISE SUMMARY:\u001b[0m\n",
      "\n",
      "\u001b[1m> Finished chain.\u001b[0m\n",
      "\n",
      "\u001b[1m> Finished chain.\u001b[0m\n",
      "\n",
      "\u001b[1m> Finished chain.\u001b[0m\n"
     ]
    },
    {
     "data": {
      "text/plain": [
       "' The Globe Group is hosting a grand raffle for employees participating in the Lakbay: Travel Expo 2022. Employees can join either on-site or online, with on-site participants needing to collect 10 stamps from participating exhibitors and online participants needing to send inquiries to exhibitors via Google Form to earn 1-2 stamps. Once 10 stamps are earned, participants will be entered into the grand raffle.'"
      ]
     },
     "execution_count": 7,
     "metadata": {},
     "output_type": "execute_result"
    }
   ],
   "source": [
    "chain = load_summarize_chain(llm, chain_type=\"map_reduce\", verbose=True)\n",
    "chain.run(docs)"
   ]
  },
  {
   "cell_type": "markdown",
   "id": "cdaf482f",
   "metadata": {},
   "source": [
    "### Asking Questions"
   ]
  },
  {
   "cell_type": "code",
   "execution_count": 6,
   "id": "e123a924",
   "metadata": {},
   "outputs": [],
   "source": [
    "from langchain.chains.question_answering import load_qa_chain"
   ]
  },
  {
   "cell_type": "code",
   "execution_count": 7,
   "id": "fd19d27c",
   "metadata": {},
   "outputs": [],
   "source": [
    "# query = \"What problem is this product solving?\"\n",
    "query = 'How do I join the raffle?'"
   ]
  },
  {
   "cell_type": "code",
   "execution_count": 8,
   "id": "dc399ac7",
   "metadata": {},
   "outputs": [
    {
     "data": {
      "text/plain": [
       "' To join the raffle, you must choose one way to participate: either live at B1, The Globe Tower or online via the event website. For live participants, you must go to the registration booth at B1, The Globe Tower, complete 10 stamps by visiting the different participating exhibitors, and submit your raffle entry in the drop box. For online participants, you must visit the Lakbay: Travel Expo 2022 website, complete 10 virtual stamps by sending an inquiry to the participating exhibitors via Google Form, and receive an email notifying you that you’re part of the grand raffle.'"
      ]
     },
     "execution_count": 8,
     "metadata": {},
     "output_type": "execute_result"
    }
   ],
   "source": [
    "chain = load_qa_chain(llm, chain_type=\"stuff\")\n",
    "chain.run(input_documents=docs, question=query)"
   ]
  },
  {
   "cell_type": "code",
   "execution_count": 11,
   "id": "5c295ba5",
   "metadata": {
    "collapsed": true
   },
   "outputs": [
    {
     "name": "stdout",
     "output_type": "stream",
     "text": [
      "\n",
      "\n",
      "\u001b[1m> Entering new StuffDocumentsChain chain...\u001b[0m\n",
      "\n",
      "\n",
      "\u001b[1m> Entering new LLMChain chain...\u001b[0m\n",
      "Prompt after formatting:\n",
      "\u001b[32;1m\u001b[1;3mUse the following pieces of context to answer the question at the end. If you don't know the answer, just say that you don't know, don't try to make up an answer.\n",
      "\n",
      "﻿GRAND RAFFLE MECHANICS\n",
      "\n",
      "\n",
      "Who can join?\n",
      "\n",
      "\n",
      "* All Globe Group employees participating at Lakbay: Travel Expo 2022 (on-site and online)\n",
      "\n",
      "\n",
      "How to join?\n",
      "\n",
      "\n",
      "* Choose ONE WAY to participate only: \n",
      "   * Live at B1, The Globe Tower\n",
      "   * Online via the event website\n",
      "*Stamps earned on-site and online cannot be combined.\n",
      "\n",
      "\n",
      "For Live Participants \n",
      "\n",
      "\n",
      "* Go to the registration booth at B1, The Globe Tower located near the elevators to register and get your Lakbay Travel Quest Pass\n",
      "* Complete 10 stamps by visiting the different participating exhibitors\n",
      "   * Premium Booths at Alcove (2 stamps)\n",
      "   * Deluxe and Standard Booths         (1 stamp)\n",
      "* Once you have completed all 10 stamps, proceed to the registration booth for checking and to submit your raffle entry in the drop box\n",
      "*One quest pass per employee only\n",
      "*Note that the raffle ticket is attached to the Travel Quest Pass\n",
      "\n",
      "\n",
      "For Online Participants \n",
      "\n",
      "\n",
      "* Visit the Lakbay: Travel Expo 2022 website\n",
      "* Complete 10 virtual stamps by sending an inquiry to the participating exhibitors via Google Form. Each inquiry will earn you 1-2 stamps.\n",
      "   * Premium Exhibitor (2 stamps)\n",
      "   * Deluxe Exhibitor and Standard Exhibitor (1 stamp)\n",
      "* Complete all 10 stamps within the duration of the Lakbay: Travel Expo 2022 (November 28 to December 2) \n",
      "* The event organizers will monitor the total number of stamps you earned\n",
      "* Once you have completed the 10 stamps, you will receive an email notifying you that you’re part of the grand raffle.\n",
      "\n",
      "Question: I have reached my 10th stamp, why haven't I received my confirmation email yet?\n",
      "Helpful Answer:\u001b[0m\n",
      "\n",
      "\u001b[1m> Finished chain.\u001b[0m\n",
      "\n",
      "\u001b[1m> Finished chain.\u001b[0m\n"
     ]
    },
    {
     "data": {
      "text/plain": [
       "' You may need to wait until the duration of the Lakbay: Travel Expo 2022 (November 28 to December 2) has ended before you receive your confirmation email.'"
      ]
     },
     "execution_count": 11,
     "metadata": {},
     "output_type": "execute_result"
    }
   ],
   "source": [
    "# query = \"How should we reach our target audience of this product?\"\n",
    "query = \"I have reached my 10th stamp, why haven't I received my confirmation email yet?\"\n",
    "\n",
    "chain = load_qa_chain(llm, chain_type=\"stuff\", verbose=True)\n",
    "chain.run(input_documents=docs, question=query)"
   ]
  },
  {
   "cell_type": "markdown",
   "id": "6dc5afa3",
   "metadata": {},
   "source": [
    "## And there's more: Add documents to your list"
   ]
  },
  {
   "cell_type": "code",
   "execution_count": 14,
   "id": "2d921ee7",
   "metadata": {},
   "outputs": [],
   "source": [
    "loader = GoogleDriveLoader(document_ids=[\"1s_-umZEhfcNVcyEZ6FbOi0pPIr-UEadEbz_OyAerpqc\"],\n",
    "                           credentials_path=\"./credentials.json\",) # technical cadetship\n",
    "new_doc = loader.load()\n",
    "\n",
    "docs.extend(new_doc)"
   ]
  },
  {
   "cell_type": "code",
   "execution_count": 16,
   "id": "1cf0b4af",
   "metadata": {},
   "outputs": [],
   "source": [
    "loader = GoogleDriveLoader(document_ids=[\"1TcSrGMavrSOIy5MRiCpqppw6dhrmATHtsPa0WODKImM\"],\n",
    "                           credentials_path=\"./credentials.json\",) # does not work with .docx\n",
    "new_doc = loader.load()\n",
    "\n",
    "docs.extend(new_doc)"
   ]
  },
  {
   "cell_type": "code",
   "execution_count": 18,
   "id": "1fe49414",
   "metadata": {
    "collapsed": true
   },
   "outputs": [
    {
     "name": "stdout",
     "output_type": "stream",
     "text": [
      "\n",
      "\n",
      "\u001b[1m> Entering new StuffDocumentsChain chain...\u001b[0m\n",
      "\n",
      "\n",
      "\u001b[1m> Entering new LLMChain chain...\u001b[0m\n",
      "Prompt after formatting:\n",
      "\u001b[32;1m\u001b[1;3mUse the following pieces of context to answer the question at the end. If you don't know the answer, just say that you don't know, don't try to make up an answer.\n",
      "\n",
      "﻿GRAND RAFFLE MECHANICS\n",
      "\n",
      "\n",
      "Who can join?\n",
      "\n",
      "\n",
      "* All Globe Group employees participating at Lakbay: Travel Expo 2022 (on-site and online)\n",
      "\n",
      "\n",
      "How to join?\n",
      "\n",
      "\n",
      "* Choose ONE WAY to participate only: \n",
      "   * Live at B1, The Globe Tower\n",
      "   * Online via the event website\n",
      "*Stamps earned on-site and online cannot be combined.\n",
      "\n",
      "\n",
      "For Live Participants \n",
      "\n",
      "\n",
      "* Go to the registration booth at B1, The Globe Tower located near the elevators to register and get your Lakbay Travel Quest Pass\n",
      "* Complete 10 stamps by visiting the different participating exhibitors\n",
      "   * Premium Booths at Alcove (2 stamps)\n",
      "   * Deluxe and Standard Booths         (1 stamp)\n",
      "* Once you have completed all 10 stamps, proceed to the registration booth for checking and to submit your raffle entry in the drop box\n",
      "*One quest pass per employee only\n",
      "*Note that the raffle ticket is attached to the Travel Quest Pass\n",
      "\n",
      "\n",
      "For Online Participants \n",
      "\n",
      "\n",
      "* Visit the Lakbay: Travel Expo 2022 website\n",
      "* Complete 10 virtual stamps by sending an inquiry to the participating exhibitors via Google Form. Each inquiry will earn you 1-2 stamps.\n",
      "   * Premium Exhibitor (2 stamps)\n",
      "   * Deluxe Exhibitor and Standard Exhibitor (1 stamp)\n",
      "* Complete all 10 stamps within the duration of the Lakbay: Travel Expo 2022 (November 28 to December 2) \n",
      "* The event organizers will monitor the total number of stamps you earned\n",
      "* Once you have completed the 10 stamps, you will receive an email notifying you that you’re part of the grand raffle.\n",
      "\n",
      "\n",
      "\n",
      "\n",
      "\n",
      "\n",
      "\n",
      "﻿Frequently Asked Questions\n",
      "\n",
      "\n",
      "\n",
      "\n",
      "What is the Technical Development Program?\n",
      "The Technical Development Program is a technical capability build program that offers a 6-month holistic technical and professional development plan to aspiring young IT professionals.\n",
      "\n",
      "\n",
      "The Technical Development Program is a premiere enablement program which aims to enable twenty-five (25) technical cadets in key IT specialization areas which include AI/ML, Software Development, Product Management and Delivery, Security, IT Quality Management and Testing, and Platform Management.  \n",
      "\n",
      "\n",
      "What is the importance of the Technical Development Program in Globe's mission of enabling the digital lifestyle of Filipinos?\n",
      "With an ever-changing landscape of the telco industry, Globe needs to continue to build capabilities that will enable the organization to be more competitive. Globe is always in search for new talents that will help achieve Globe’s goal to enable the digital lifestyle of every Filipino. \n",
      "\n",
      "\n",
      "\n",
      "\n",
      "What can I expect from the Technical Development Program?\n",
      "You can expect intensive technical skills development through guided and immersive coaching. You will have industry leaders as mentors who will guide you in developing leadership competencies that will help you thrive in a high-performing organization. You will also undergo certifications based on your assigned specialization tracks as part of the program and have the opportunity to work in highly specialized technical roles in Globe.\n",
      "\n",
      "\n",
      "\n",
      "\n",
      "What are the components of the program?\n",
      "The program consists of technical development sessions in different areas of expertise and tracks, as mentioned above.  It also includes professional development in areas of communication, leadership, management, among others. Each cadet will also undergo certifications in their foundational and specialization tracks. On top of that, cadets will be given the opportunity to immerse in different teams as well as be mentored by industry professionals. \n",
      "\n",
      "\n",
      "What are the program's qualifications?\n",
      "We are looking nationwide specifically for fresh graduates* from any 4-year Bachelor’s course of Computer Science, IT, Engineering, Mathematics or other related courses. Applicants with a maximum of 1 year of experience are also welcome to apply.\n",
      "\n",
      "\n",
      "Most importantly, you should have a high propensity to learn new things, immensely curious, a team player, and willing to work in a fast-paced environment. \n",
      "\n",
      "\n",
      "*Fresh graduate from January 2021 onwards.\n",
      "What if I currently have work, can I still apply?\n",
      "Yes! As long as you graduated from January 2021 onwards or only 1 year of work experience and you can start in June 2022, you are still eligible to apply to the program.\n",
      "\n",
      "\n",
      "What if I don't have experience in the key specialization areas mentioned, can I still join?\n",
      "Yes, you do not need to have full experience in the areas mentioned to be eligible for the program. However, prior knowledge is a plus. It is also good if you can show us that you join different learning opportunities such as extracurricular trainings, hackathons, conferences, and the like, in order to advance your knowledge in the matter.\n",
      "\n",
      "\n",
      "\n",
      "\n",
      "What is the basis for the selection?\n",
      "All qualified applicants will take an online technical assessment which will measure the applicant's technical competency. Out of all these applicants who will take the assessment, one hundred fifty (150) pre-qualifiers will be shortlisted and will undergo an interview where we will choose the top sixty (60). The top sixty (60) will then attend a 2-day online bootcamp and a challenge. From this we will determine the final qualified candidates.\n",
      "\n",
      "\n",
      "What are the means of communications between applicants and the recruitment team?\n",
      "Our recruitment team will contact you via either email or SMS, so keep your lines open.\n",
      "\n",
      "\n",
      "What can I expect if I pass the selection process?\n",
      "You will be hired as a probationary employee with a competitive salary.  We will advise on you on which office to report to. It will be primarily in Globe Tower located at BGC, Taguig or to our offices in either Cebu or Davao which will be more convenient especially for our regional hires. \n",
      "\n",
      "\n",
      "What are the steps to apply?\n",
      "The first step is to apply by filling out the application form in this link.  Once you qualify for the initial screening, we will provide you with the link where to take the technical assessment. After that, kindly wait for either a call or email if you qualify for the next step.\n",
      "\n",
      "\n",
      "\n",
      "\n",
      "What is the timeline of the program?\n",
      "The recruitment will launch in February 2022 followed by a series of activities within the month. Official onboarding and start of the program will be in June 2022.\n",
      "\n",
      "\n",
      "\n",
      "\n",
      "What are the dates I need to remember?\n",
      "Below are the important dates that you need to remember once you apply to the program.\n",
      "\n",
      "\n",
      "Activity\n",
      "\tDate\n",
      "\tOnline Technical Assessment\n",
      "\tFebruary 1 to March 20, 2022\n",
      "\tApplicant Interviews\n",
      "\tMarch 21 to April 8, 2022\n",
      "\t2-day Challenge Activity \n",
      "\tWeek of April 18 \n",
      "\tAnnouncement of Successful Cadets \n",
      "\tApril 25-30 , 2022\n",
      "\tProgram Kick-off\n",
      "\tJune 16, 2022\n",
      "\t\n",
      "\n",
      "Is this program only for those located in Manila?\n",
      "No. We are also opening this to those outside NCR.\n",
      "\n",
      "\n",
      "Is this an internship program?\n",
      "No, the Technical Development Program is not an internship program. We are offering regular positions for the qualified applicants.\n",
      "\n",
      "\n",
      "\n",
      "\n",
      "Is it required to attend the 2-day Challenge Activity?\n",
      "Yes, in order to continue with the application process, you need to attend the 2-day Challenge and all the other steps. You are required to attend both of the days of the Challenge in order to continue with the application process. \n",
      "\n",
      "\n",
      "Who is Apper?\n",
      "Apper Digital, Inc. is our assessment and training partner for the Technical Development Program. They have vast knowledge and experience related to the service and programs that we need with corresponding industry technical certifications. They have successfully mentored and trained our cadets in the previous cycles.\n",
      "\n",
      "\n",
      "\n",
      "﻿May 11, 2022\n",
      "\n",
      "\n",
      "\n",
      "\n",
      "Dear Sir Robby Abraham,\n",
      "\n",
      "\n",
      "        I would like to inform you that I am resigning from my position as an Operations Computer Operator for Change Healthcare, effective June 10, 2022.\n",
      "I am grateful for all the opportunities the company has provided me, and for the support you and the team has provided me during the last 19 months. \n",
      "        Please let me know how I can be of any assistance during the transition period. I would be glad to help however I can. I wish you and the company the best going forward.\n",
      "\n",
      "\n",
      "\n",
      "\n",
      "Sincerely,\n",
      "\n",
      "\n",
      "Dhoby Schon Fitz L. Bumacod\n",
      "\n",
      "Question: What are the tracks offered by the cadetship program?\n",
      "Helpful Answer:\u001b[0m\n",
      "\n",
      "\u001b[1m> Finished chain.\u001b[0m\n",
      "\n",
      "\u001b[1m> Finished chain.\u001b[0m\n"
     ]
    },
    {
     "data": {
      "text/plain": [
       "' The tracks offered by the cadetship program are AI/ML, Software Development, Product Management and Delivery, Security, IT Quality Management and Testing, and Platform Management.'"
      ]
     },
     "execution_count": 18,
     "metadata": {},
     "output_type": "execute_result"
    }
   ],
   "source": [
    "query = \"What are the tracks offered by the cadetship program?\"\n",
    "\n",
    "chain = load_qa_chain(llm, chain_type=\"stuff\", verbose=True)\n",
    "chain.run(input_documents=docs, question=query)"
   ]
  },
  {
   "cell_type": "code",
   "execution_count": 19,
   "id": "06178664",
   "metadata": {},
   "outputs": [
    {
     "name": "stdout",
     "output_type": "stream",
     "text": [
      "\n",
      "\n",
      "\u001b[1m> Entering new StuffDocumentsChain chain...\u001b[0m\n",
      "\n",
      "\n",
      "\u001b[1m> Entering new LLMChain chain...\u001b[0m\n",
      "Prompt after formatting:\n",
      "\u001b[32;1m\u001b[1;3mUse the following pieces of context to answer the question at the end. If you don't know the answer, just say that you don't know, don't try to make up an answer.\n",
      "\n",
      "﻿GRAND RAFFLE MECHANICS\n",
      "\n",
      "\n",
      "Who can join?\n",
      "\n",
      "\n",
      "* All Globe Group employees participating at Lakbay: Travel Expo 2022 (on-site and online)\n",
      "\n",
      "\n",
      "How to join?\n",
      "\n",
      "\n",
      "* Choose ONE WAY to participate only: \n",
      "   * Live at B1, The Globe Tower\n",
      "   * Online via the event website\n",
      "*Stamps earned on-site and online cannot be combined.\n",
      "\n",
      "\n",
      "For Live Participants \n",
      "\n",
      "\n",
      "* Go to the registration booth at B1, The Globe Tower located near the elevators to register and get your Lakbay Travel Quest Pass\n",
      "* Complete 10 stamps by visiting the different participating exhibitors\n",
      "   * Premium Booths at Alcove (2 stamps)\n",
      "   * Deluxe and Standard Booths         (1 stamp)\n",
      "* Once you have completed all 10 stamps, proceed to the registration booth for checking and to submit your raffle entry in the drop box\n",
      "*One quest pass per employee only\n",
      "*Note that the raffle ticket is attached to the Travel Quest Pass\n",
      "\n",
      "\n",
      "For Online Participants \n",
      "\n",
      "\n",
      "* Visit the Lakbay: Travel Expo 2022 website\n",
      "* Complete 10 virtual stamps by sending an inquiry to the participating exhibitors via Google Form. Each inquiry will earn you 1-2 stamps.\n",
      "   * Premium Exhibitor (2 stamps)\n",
      "   * Deluxe Exhibitor and Standard Exhibitor (1 stamp)\n",
      "* Complete all 10 stamps within the duration of the Lakbay: Travel Expo 2022 (November 28 to December 2) \n",
      "* The event organizers will monitor the total number of stamps you earned\n",
      "* Once you have completed the 10 stamps, you will receive an email notifying you that you’re part of the grand raffle.\n",
      "\n",
      "\n",
      "\n",
      "\n",
      "\n",
      "\n",
      "\n",
      "﻿Frequently Asked Questions\n",
      "\n",
      "\n",
      "\n",
      "\n",
      "What is the Technical Development Program?\n",
      "The Technical Development Program is a technical capability build program that offers a 6-month holistic technical and professional development plan to aspiring young IT professionals.\n",
      "\n",
      "\n",
      "The Technical Development Program is a premiere enablement program which aims to enable twenty-five (25) technical cadets in key IT specialization areas which include AI/ML, Software Development, Product Management and Delivery, Security, IT Quality Management and Testing, and Platform Management.  \n",
      "\n",
      "\n",
      "What is the importance of the Technical Development Program in Globe's mission of enabling the digital lifestyle of Filipinos?\n",
      "With an ever-changing landscape of the telco industry, Globe needs to continue to build capabilities that will enable the organization to be more competitive. Globe is always in search for new talents that will help achieve Globe’s goal to enable the digital lifestyle of every Filipino. \n",
      "\n",
      "\n",
      "\n",
      "\n",
      "What can I expect from the Technical Development Program?\n",
      "You can expect intensive technical skills development through guided and immersive coaching. You will have industry leaders as mentors who will guide you in developing leadership competencies that will help you thrive in a high-performing organization. You will also undergo certifications based on your assigned specialization tracks as part of the program and have the opportunity to work in highly specialized technical roles in Globe.\n",
      "\n",
      "\n",
      "\n",
      "\n",
      "What are the components of the program?\n",
      "The program consists of technical development sessions in different areas of expertise and tracks, as mentioned above.  It also includes professional development in areas of communication, leadership, management, among others. Each cadet will also undergo certifications in their foundational and specialization tracks. On top of that, cadets will be given the opportunity to immerse in different teams as well as be mentored by industry professionals. \n",
      "\n",
      "\n",
      "What are the program's qualifications?\n",
      "We are looking nationwide specifically for fresh graduates* from any 4-year Bachelor’s course of Computer Science, IT, Engineering, Mathematics or other related courses. Applicants with a maximum of 1 year of experience are also welcome to apply.\n",
      "\n",
      "\n",
      "Most importantly, you should have a high propensity to learn new things, immensely curious, a team player, and willing to work in a fast-paced environment. \n",
      "\n",
      "\n",
      "*Fresh graduate from January 2021 onwards.\n",
      "What if I currently have work, can I still apply?\n",
      "Yes! As long as you graduated from January 2021 onwards or only 1 year of work experience and you can start in June 2022, you are still eligible to apply to the program.\n",
      "\n",
      "\n",
      "What if I don't have experience in the key specialization areas mentioned, can I still join?\n",
      "Yes, you do not need to have full experience in the areas mentioned to be eligible for the program. However, prior knowledge is a plus. It is also good if you can show us that you join different learning opportunities such as extracurricular trainings, hackathons, conferences, and the like, in order to advance your knowledge in the matter.\n",
      "\n",
      "\n",
      "\n",
      "\n",
      "What is the basis for the selection?\n",
      "All qualified applicants will take an online technical assessment which will measure the applicant's technical competency. Out of all these applicants who will take the assessment, one hundred fifty (150) pre-qualifiers will be shortlisted and will undergo an interview where we will choose the top sixty (60). The top sixty (60) will then attend a 2-day online bootcamp and a challenge. From this we will determine the final qualified candidates.\n",
      "\n",
      "\n",
      "What are the means of communications between applicants and the recruitment team?\n",
      "Our recruitment team will contact you via either email or SMS, so keep your lines open.\n",
      "\n",
      "\n",
      "What can I expect if I pass the selection process?\n",
      "You will be hired as a probationary employee with a competitive salary.  We will advise on you on which office to report to. It will be primarily in Globe Tower located at BGC, Taguig or to our offices in either Cebu or Davao which will be more convenient especially for our regional hires. \n",
      "\n",
      "\n",
      "What are the steps to apply?\n",
      "The first step is to apply by filling out the application form in this link.  Once you qualify for the initial screening, we will provide you with the link where to take the technical assessment. After that, kindly wait for either a call or email if you qualify for the next step.\n",
      "\n",
      "\n",
      "\n",
      "\n",
      "What is the timeline of the program?\n",
      "The recruitment will launch in February 2022 followed by a series of activities within the month. Official onboarding and start of the program will be in June 2022.\n",
      "\n",
      "\n",
      "\n",
      "\n",
      "What are the dates I need to remember?\n",
      "Below are the important dates that you need to remember once you apply to the program.\n",
      "\n",
      "\n",
      "Activity\n",
      "\tDate\n",
      "\tOnline Technical Assessment\n",
      "\tFebruary 1 to March 20, 2022\n",
      "\tApplicant Interviews\n",
      "\tMarch 21 to April 8, 2022\n",
      "\t2-day Challenge Activity \n",
      "\tWeek of April 18 \n",
      "\tAnnouncement of Successful Cadets \n",
      "\tApril 25-30 , 2022\n",
      "\tProgram Kick-off\n",
      "\tJune 16, 2022\n",
      "\t\n",
      "\n",
      "Is this program only for those located in Manila?\n",
      "No. We are also opening this to those outside NCR.\n",
      "\n",
      "\n",
      "Is this an internship program?\n",
      "No, the Technical Development Program is not an internship program. We are offering regular positions for the qualified applicants.\n",
      "\n",
      "\n",
      "\n",
      "\n",
      "Is it required to attend the 2-day Challenge Activity?\n",
      "Yes, in order to continue with the application process, you need to attend the 2-day Challenge and all the other steps. You are required to attend both of the days of the Challenge in order to continue with the application process. \n",
      "\n",
      "\n",
      "Who is Apper?\n",
      "Apper Digital, Inc. is our assessment and training partner for the Technical Development Program. They have vast knowledge and experience related to the service and programs that we need with corresponding industry technical certifications. They have successfully mentored and trained our cadets in the previous cycles.\n",
      "\n",
      "\n",
      "\n",
      "﻿May 11, 2022\n",
      "\n",
      "\n",
      "\n",
      "\n",
      "Dear Sir Robby Abraham,\n",
      "\n",
      "\n",
      "        I would like to inform you that I am resigning from my position as an Operations Computer Operator for Change Healthcare, effective June 10, 2022.\n",
      "I am grateful for all the opportunities the company has provided me, and for the support you and the team has provided me during the last 19 months. \n",
      "        Please let me know how I can be of any assistance during the transition period. I would be glad to help however I can. I wish you and the company the best going forward.\n",
      "\n",
      "\n",
      "\n",
      "\n",
      "Sincerely,\n",
      "\n",
      "\n",
      "Dhoby Schon Fitz L. Bumacod\n",
      "\n",
      "Question: When is Dhoby's last day?\n",
      "Helpful Answer:\u001b[0m\n",
      "\n",
      "\u001b[1m> Finished chain.\u001b[0m\n",
      "\n",
      "\u001b[1m> Finished chain.\u001b[0m\n"
     ]
    },
    {
     "data": {
      "text/plain": [
       "' June 10, 2022'"
      ]
     },
     "execution_count": 19,
     "metadata": {},
     "output_type": "execute_result"
    }
   ],
   "source": [
    "query = \"When is Dhoby's last day?\"\n",
    "\n",
    "chain = load_qa_chain(llm, chain_type=\"stuff\", verbose=True)\n",
    "chain.run(input_documents=docs, question=query)"
   ]
  },
  {
   "cell_type": "markdown",
   "id": "38901b7f",
   "metadata": {},
   "source": [
    "### Remove Documents"
   ]
  },
  {
   "cell_type": "code",
   "execution_count": 20,
   "id": "7a0eb0f4",
   "metadata": {},
   "outputs": [
    {
     "data": {
      "text/plain": [
       "list"
      ]
     },
     "execution_count": 20,
     "metadata": {},
     "output_type": "execute_result"
    }
   ],
   "source": [
    "type(docs)"
   ]
  },
  {
   "cell_type": "code",
   "execution_count": 21,
   "id": "7151f84a",
   "metadata": {},
   "outputs": [
    {
     "data": {
      "text/plain": [
       "Document(page_content=\"\\ufeffSecondaryEquityHub - User Interviews\\r\\n2/21/2023\\r\\n\\r\\n\\r\\nInterview #1 - Sally\\r\\n\\r\\n\\r\\nEliza: Hi Sally, thanks for coming in today. Can you tell me a bit about your experience in the startup world?\\r\\n\\r\\n\\r\\nSally: Hi Eliza, thanks for having me. Sure, I've been working in the startup world for about 5 years now. I've worked for a few different startups in various roles, from marketing to product management.\\r\\n\\r\\n\\r\\nEliza: Great, well our product is a marketplace that connects startup employees who want to sell vested equity to buyers of secondary market shares. What do you think of this idea?\\r\\nSally: I think it's a really interesting concept. It's not uncommon for startup employees to have vested equity tied up for several years, and having a marketplace to sell that equity could be really helpful for those who want to unlock its value.\\r\\n\\r\\n\\r\\nEliza: Yes, exactly. The platform aims to help employees achieve personal financial goals, such as buying a home or paying down loans, while also providing buyers with the opportunity to invest in startup equity that has already passed the early-stage risks. How do you think we can ensure that the buyers are getting a fair deal?\\r\\n\\r\\n\\r\\nSally: That's a good question. I think it would be important to have some kind of vetting process for the sellers and the shares they're selling. We would need to make sure that the shares are legitimate and that the sellers have the right to sell them. It would also be important to have some kind of transparency around the pricing, so that buyers can make informed decisions.\\r\\n\\r\\n\\r\\nEliza: Yes, those are all great points. We've been working on developing a secure platform that includes a vetting process for the sellers and the shares they're selling, and we're also planning to provide transparent pricing information. Thank you for your input, Sally. It was great to chat with you today.\", lookup_str='', metadata={'source': 'https://docs.google.com/document/d/1ETW9siA8EBkdms7R1UTw1ysXag2U6gb9wMzRpSxjqY8/edit'}, lookup_index=0)"
      ]
     },
     "execution_count": 21,
     "metadata": {},
     "output_type": "execute_result"
    }
   ],
   "source": [
    "docs.pop()"
   ]
  },
  {
   "cell_type": "code",
   "execution_count": null,
   "id": "e8a0b907",
   "metadata": {},
   "outputs": [],
   "source": []
  },
  {
   "cell_type": "code",
   "execution_count": 21,
   "id": "c2bd62dc",
   "metadata": {},
   "outputs": [
    {
     "data": {
      "text/plain": [
       "{'page_content': '\\ufeffGRAND RAFFLE MECHANICS\\r\\n\\r\\n\\r\\nWho can join?\\r\\n\\r\\n\\r\\n* All Globe Group employees participating at Lakbay: Travel Expo 2022 (on-site and online)\\r\\n\\r\\n\\r\\nHow to join?\\r\\n\\r\\n\\r\\n* Choose ONE WAY to participate only: \\r\\n   * Live at B1, The Globe Tower\\r\\n   * Online via the event website\\r\\n*Stamps earned on-site and online cannot be combined.\\r\\n\\r\\n\\r\\nFor Live Participants \\r\\n\\r\\n\\r\\n* Go to the registration booth at B1, The Globe Tower located near the elevators to register and get your Lakbay Travel Quest Pass\\r\\n* Complete 10 stamps by visiting the different participating exhibitors\\r\\n   * Premium Booths at Alcove (2 stamps)\\r\\n   * Deluxe and Standard Booths         (1 stamp)\\r\\n* Once you have completed all 10 stamps, proceed to the registration booth for checking and to submit your raffle entry in the drop box\\r\\n*One quest pass per employee only\\r\\n*Note that the raffle ticket is attached to the Travel Quest Pass\\r\\n\\r\\n\\r\\nFor Online Participants \\r\\n\\r\\n\\r\\n* Visit the Lakbay: Travel Expo 2022 website\\r\\n* Complete 10 virtual stamps by sending an inquiry to the participating exhibitors via Google Form. Each inquiry will earn you 1-2 stamps.\\r\\n   * Premium Exhibitor (2 stamps)\\r\\n   * Deluxe Exhibitor and Standard Exhibitor (1 stamp)\\r\\n* Complete all 10 stamps within the duration of the Lakbay: Travel Expo 2022 (November 28 to December 2) \\r\\n* The event organizers will monitor the total number of stamps you earned\\r\\n* Once you have completed the 10 stamps, you will receive an email notifying you that you’re part of the grand raffle.',\n",
       " 'metadata': {'source': 'https://docs.google.com/document/d/1forIYOb_rRn4ug2UDaewQEzSYlHufSFFd01s5F4ZjqA/edit',\n",
       "  'title': 'Lakbay: Globe Travel Expo 2022 Travel Quest Mechanics'}}"
      ]
     },
     "execution_count": 21,
     "metadata": {},
     "output_type": "execute_result"
    }
   ],
   "source": [
    "docs[0].dict()"
   ]
  },
  {
   "cell_type": "code",
   "execution_count": null,
   "id": "9a66c436",
   "metadata": {},
   "outputs": [],
   "source": []
  }
 ],
 "metadata": {
  "kernelspec": {
   "display_name": "Python 3 (ipykernel)",
   "language": "python",
   "name": "python3"
  },
  "language_info": {
   "codemirror_mode": {
    "name": "ipython",
    "version": 3
   },
   "file_extension": ".py",
   "mimetype": "text/x-python",
   "name": "python",
   "nbconvert_exporter": "python",
   "pygments_lexer": "ipython3",
   "version": "3.11.4"
  }
 },
 "nbformat": 4,
 "nbformat_minor": 5
}
